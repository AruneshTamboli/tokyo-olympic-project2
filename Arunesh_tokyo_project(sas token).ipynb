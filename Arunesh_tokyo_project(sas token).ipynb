{
 "cells": [
  {
   "cell_type": "code",
   "execution_count": 0,
   "metadata": {
    "application/vnd.databricks.v1+cell": {
     "cellMetadata": {
      "byteLimit": 2048000,
      "rowLimit": 10000
     },
     "inputWidgets": {},
     "nuid": "57665f1a-831d-452b-8a91-6d97d31b0682",
     "showTitle": false,
     "tableResultSettingsMap": {},
     "title": ""
    }
   },
   "outputs": [
    {
     "output_type": "display_data",
     "data": {
      "text/plain": [
       "\u001B[0;31m---------------------------------------------------------------------------\u001B[0m\n",
       "\u001B[0;31mExecutionError\u001B[0m                            Traceback (most recent call last)\n",
       "File \u001B[0;32m<command-2206391917820686>, line 1\u001B[0m\n",
       "\u001B[0;32m----> 1\u001B[0m dbutils\u001B[38;5;241m.\u001B[39mfs\u001B[38;5;241m.\u001B[39mmount(\n",
       "\u001B[1;32m      2\u001B[0m     source\u001B[38;5;241m=\u001B[39m\u001B[38;5;124m'\u001B[39m\u001B[38;5;124mwasbs://tokyo-olympic-data@olympicproject2021adls.blob.core.windows.net\u001B[39m\u001B[38;5;124m'\u001B[39m,\n",
       "\u001B[1;32m      3\u001B[0m     mount_point\u001B[38;5;241m=\u001B[39m\u001B[38;5;124m'\u001B[39m\u001B[38;5;124m/mnt/new_olympic_project\u001B[39m\u001B[38;5;124m'\u001B[39m,\n",
       "\u001B[1;32m      4\u001B[0m     extra_configs\u001B[38;5;241m=\u001B[39m{\n",
       "\u001B[1;32m      5\u001B[0m         \u001B[38;5;124m'\u001B[39m\u001B[38;5;124mfs.azure.sas.tokyo-olympic-data.olympicproject2021adls.blob.core.windows.net\u001B[39m\u001B[38;5;124m'\u001B[39m: \u001B[38;5;124m'\u001B[39m\u001B[38;5;124msv=2022-11-02&ss=b&srt=sco&sp=rwdlacyx&se=2024-11-29T12:58:58Z&st=2024-11-29T04:58:58Z&spr=https&sig=IGDebPYDj1g825ynLk5TsqrZhigY2dzEMhft\u001B[39m\u001B[38;5;132;01m%2F\u001B[39;00m\u001B[38;5;124myz3WVo\u001B[39m\u001B[38;5;124m%\u001B[39m\u001B[38;5;124m3D\u001B[39m\u001B[38;5;124m'\u001B[39m\n",
       "\u001B[1;32m      6\u001B[0m     }\n",
       "\u001B[1;32m      7\u001B[0m )\n",
       "\n",
       "File \u001B[0;32m/databricks/python_shell/dbruntime/dbutils.py:158\u001B[0m, in \u001B[0;36mprettify_exception_message.<locals>.f_with_exception_handling\u001B[0;34m(*args, **kwargs)\u001B[0m\n",
       "\u001B[1;32m    156\u001B[0m exc\u001B[38;5;241m.\u001B[39m__context__ \u001B[38;5;241m=\u001B[39m \u001B[38;5;28;01mNone\u001B[39;00m\n",
       "\u001B[1;32m    157\u001B[0m exc\u001B[38;5;241m.\u001B[39m__cause__ \u001B[38;5;241m=\u001B[39m \u001B[38;5;28;01mNone\u001B[39;00m\n",
       "\u001B[0;32m--> 158\u001B[0m \u001B[38;5;28;01mraise\u001B[39;00m exc\n",
       "\n",
       "\u001B[0;31mExecutionError\u001B[0m: An error occurred while calling o417.mount.\n",
       ": java.rmi.RemoteException: java.lang.IllegalArgumentException: requirement failed: Directory already mounted: /mnt/new_olympic_project; nested exception is: \n",
       "\tjava.lang.IllegalArgumentException: requirement failed: Directory already mounted: /mnt/new_olympic_project\n",
       "\tat com.databricks.backend.daemon.data.client.DbfsClient.send0(DbfsClient.scala:148)\n",
       "\tat com.databricks.backend.daemon.data.client.DbfsClient.sendIdempotent(DbfsClient.scala:70)\n",
       "\tat com.databricks.backend.daemon.dbutils.DBUtilsCore.createOrUpdateMount(DBUtilsCore.scala:1142)\n",
       "\tat com.databricks.backend.daemon.dbutils.DBUtilsCore.$anonfun$mount$1(DBUtilsCore.scala:1168)\n",
       "\tat com.databricks.logging.UsageLogging.$anonfun$recordOperation$1(UsageLogging.scala:527)\n",
       "\tat com.databricks.logging.UsageLogging.executeThunkAndCaptureResultTags$1(UsageLogging.scala:631)\n",
       "\tat com.databricks.logging.UsageLogging.$anonfun$recordOperationWithResultTags$4(UsageLogging.scala:651)\n",
       "\tat com.databricks.logging.AttributionContextTracing.$anonfun$withAttributionContext$1(AttributionContextTracing.scala:48)\n",
       "\tat com.databricks.logging.AttributionContext$.$anonfun$withValue$1(AttributionContext.scala:276)\n",
       "\tat scala.util.DynamicVariable.withValue(DynamicVariable.scala:62)\n",
       "\tat com.databricks.logging.AttributionContext$.withValue(AttributionContext.scala:272)\n",
       "\tat com.databricks.logging.AttributionContextTracing.withAttributionContext(AttributionContextTracing.scala:46)\n",
       "\tat com.databricks.logging.AttributionContextTracing.withAttributionContext$(AttributionContextTracing.scala:43)\n",
       "\tat com.databricks.backend.daemon.dbutils.FSUtils.withAttributionContext(DBUtilsCore.scala:74)\n",
       "\tat com.databricks.logging.AttributionContextTracing.withAttributionTags(AttributionContextTracing.scala:95)\n",
       "\tat com.databricks.logging.AttributionContextTracing.withAttributionTags$(AttributionContextTracing.scala:76)\n",
       "\tat com.databricks.backend.daemon.dbutils.FSUtils.withAttributionTags(DBUtilsCore.scala:74)\n",
       "\tat com.databricks.logging.UsageLogging.recordOperationWithResultTags(UsageLogging.scala:626)\n",
       "\tat com.databricks.logging.UsageLogging.recordOperationWithResultTags$(UsageLogging.scala:536)\n",
       "\tat com.databricks.backend.daemon.dbutils.FSUtils.recordOperationWithResultTags(DBUtilsCore.scala:74)\n",
       "\tat com.databricks.logging.UsageLogging.recordOperation(UsageLogging.scala:528)\n",
       "\tat com.databricks.logging.UsageLogging.recordOperation$(UsageLogging.scala:496)\n",
       "\tat com.databricks.backend.daemon.dbutils.FSUtils.recordOperation(DBUtilsCore.scala:74)\n",
       "\tat com.databricks.backend.daemon.dbutils.FSUtils.recordDbutilsFsOp(DBUtilsCore.scala:138)\n",
       "\tat com.databricks.backend.daemon.dbutils.DBUtilsCore.mount(DBUtilsCore.scala:1162)\n",
       "\tat sun.reflect.NativeMethodAccessorImpl.invoke0(Native Method)\n",
       "\tat sun.reflect.NativeMethodAccessorImpl.invoke(NativeMethodAccessorImpl.java:62)\n",
       "\tat sun.reflect.DelegatingMethodAccessorImpl.invoke(DelegatingMethodAccessorImpl.java:43)\n",
       "\tat java.lang.reflect.Method.invoke(Method.java:498)\n",
       "\tat py4j.reflection.MethodInvoker.invoke(MethodInvoker.java:244)\n",
       "\tat py4j.reflection.ReflectionEngine.invoke(ReflectionEngine.java:397)\n",
       "\tat py4j.Gateway.invoke(Gateway.java:306)\n",
       "\tat py4j.commands.AbstractCommand.invokeMethod(AbstractCommand.java:132)\n",
       "\tat py4j.commands.CallCommand.execute(CallCommand.java:79)\n",
       "\tat py4j.ClientServerConnection.waitForCommands(ClientServerConnection.java:199)\n",
       "\tat py4j.ClientServerConnection.run(ClientServerConnection.java:119)\n",
       "\tat java.lang.Thread.run(Thread.java:750)\n",
       "Caused by: java.lang.IllegalArgumentException: requirement failed: Directory already mounted: /mnt/new_olympic_project\n",
       "\tat scala.Predef$.require(Predef.scala:281)\n",
       "\tat com.databricks.backend.daemon.data.server.DefaultMetadataManager.$anonfun$insertMount$1(MetadataManager.scala:800)\n",
       "\tat com.databricks.backend.daemon.data.server.DefaultMetadataManager.$anonfun$modifyAndVerify$2(MetadataManager.scala:1182)\n",
       "\tat scala.runtime.java8.JFunction0$mcV$sp.apply(JFunction0$mcV$sp.java:23)\n",
       "\tat com.databricks.backend.daemon.data.server.DefaultMetadataManager.withRetries(MetadataManager.scala:955)\n",
       "\tat com.databricks.backend.daemon.data.server.DefaultMetadataManager.modifyAndVerify(MetadataManager.scala:1171)\n",
       "\tat com.databricks.backend.daemon.data.server.DefaultMetadataManager.insertMount(MetadataManager.scala:808)\n",
       "\tat com.databricks.backend.daemon.data.server.handler.MountHandler.receive(MountHandler.scala:128)\n",
       "\tat com.databricks.backend.daemon.data.server.session.SessionContext.$anonfun$queryHandlers$1(SessionContext.scala:54)\n",
       "\tat com.databricks.backend.daemon.data.server.session.SessionContext.$anonfun$queryHandlers$1$adapted(SessionContext.scala:53)\n",
       "\tat scala.collection.immutable.List.foreach(List.scala:431)\n",
       "\tat com.databricks.backend.daemon.data.server.session.SessionContext.queryHandlers(SessionContext.scala:53)\n",
       "\tat com.databricks.backend.daemon.data.server.DbfsServerBackend$$anonfun$receive$4.$anonfun$applyOrElse$10(DbfsServerBackend.scala:451)\n",
       "\tat com.databricks.logging.AttributionContextTracing.$anonfun$withAttributionContext$1(AttributionContextTracing.scala:48)\n",
       "\tat com.databricks.logging.AttributionContext$.$anonfun$withValue$1(AttributionContext.scala:271)\n",
       "\tat scala.util.DynamicVariable.withValue(DynamicVariable.scala:62)\n",
       "\tat com.databricks.logging.AttributionContext$.withValue(AttributionContext.scala:267)\n",
       "\tat com.databricks.logging.AttributionContextTracing.withAttributionContext(AttributionContextTracing.scala:46)\n",
       "\tat com.databricks.logging.AttributionContextTracing.withAttributionContext$(AttributionContextTracing.scala:43)\n",
       "\tat com.databricks.rpc.ServerBackend.withAttributionContext(ServerBackend.scala:22)\n",
       "\tat com.databricks.logging.AttributionContextTracing.withAttributionTags(AttributionContextTracing.scala:95)\n",
       "\tat com.databricks.logging.AttributionContextTracing.withAttributionTags$(AttributionContextTracing.scala:76)\n",
       "\tat com.databricks.rpc.ServerBackend.withAttributionTags(ServerBackend.scala:22)\n",
       "\tat com.databricks.backend.daemon.data.server.DbfsServerBackend$$anonfun$receive$4.applyOrElse(DbfsServerBackend.scala:451)\n",
       "\tat com.databricks.backend.daemon.data.server.DbfsServerBackend$$anonfun$receive$4.applyOrElse(DbfsServerBackend.scala:344)\n",
       "\tat com.databricks.rpc.ServerBackend.$anonfun$internalReceive0$2(ServerBackend.scala:174)\n",
       "\tat com.databricks.rpc.ServerBackend$$anonfun$commonReceive$1.applyOrElse(ServerBackend.scala:200)\n",
       "\tat com.databricks.rpc.ServerBackend$$anonfun$commonReceive$1.applyOrElse(ServerBackend.scala:200)\n",
       "\tat com.databricks.rpc.ServerBackend.internalReceive0(ServerBackend.scala:171)\n",
       "\tat com.databricks.rpc.ServerBackend.$anonfun$internalReceive$1(ServerBackend.scala:147)\n",
       "\tat com.databricks.logging.UsageLogging.$anonfun$recordOperation$1(UsageLogging.scala:508)\n",
       "\tat com.databricks.logging.UsageLogging.executeThunkAndCaptureResultTags$1(UsageLogging.scala:613)\n",
       "\tat com.databricks.logging.UsageLogging.$anonfun$recordOperationWithResultTags$4(UsageLogging.scala:636)\n",
       "\tat com.databricks.logging.AttributionContextTracing.$anonfun$withAttributionContext$1(AttributionContextTracing.scala:48)\n",
       "\tat com.databricks.logging.AttributionContext$.$anonfun$withValue$1(AttributionContext.scala:271)\n",
       "\tat scala.util.DynamicVariable.withValue(DynamicVariable.scala:62)\n",
       "\tat com.databricks.logging.AttributionContext$.withValue(AttributionContext.scala:267)\n",
       "\tat com.databricks.logging.AttributionContextTracing.withAttributionContext(AttributionContextTracing.scala:46)\n",
       "\tat com.databricks.logging.AttributionContextTracing.withAttributionContext$(AttributionContextTracing.scala:43)\n",
       "\tat com.databricks.rpc.ServerBackend.withAttributionContext(ServerBackend.scala:22)\n",
       "\tat com.databricks.logging.AttributionContextTracing.withAttributionTags(AttributionContextTracing.scala:95)\n",
       "\tat com.databricks.logging.AttributionContextTracing.withAttributionTags$(AttributionContextTracing.scala:76)\n",
       "\tat com.databricks.rpc.ServerBackend.withAttributionTags(ServerBackend.scala:22)\n",
       "\tat com.databricks.logging.UsageLogging.recordOperationWithResultTags(UsageLogging.scala:608)\n",
       "\tat com.databricks.logging.UsageLogging.recordOperationWithResultTags$(UsageLogging.scala:517)\n",
       "\tat com.databricks.rpc.ServerBackend.recordOperationWithResultTags(ServerBackend.scala:22)\n",
       "\tat com.databricks.logging.UsageLogging.recordOperation(UsageLogging.scala:509)\n",
       "\tat com.databricks.logging.UsageLogging.recordOperation$(UsageLogging.scala:475)\n",
       "\tat com.databricks.rpc.ServerBackend.recordOperation(ServerBackend.scala:22)\n",
       "\tat com.databricks.rpc.ServerBackend.internalReceive(ServerBackend.scala:146)\n",
       "\tat com.databricks.rpc.JettyServer$RequestManager.handleRPC(JettyServer.scala:1032)\n",
       "\tat com.databricks.rpc.JettyServer$RequestManager.handleRequestAndRespond(JettyServer.scala:952)\n",
       "\tat com.databricks.rpc.JettyServer$RequestManager.$anonfun$handleHttp$6(JettyServer.scala:552)\n",
       "\tat com.databricks.rpc.JettyServer$RequestManager.$anonfun$handleHttp$6$adapted(JettyServer.scala:521)\n",
       "\tat com.databricks.logging.activity.ActivityContextFactory$.$anonfun$withActivityInternal$8(ActivityContextFactory.scala:681)\n",
       "\tat com.databricks.logging.AttributionContextTracing.$anonfun$withAttributionContext$1(AttributionContextTracing.scala:48)\n",
       "\tat com.databricks.logging.AttributionContext$.$anonfun$withValue$1(AttributionContext.scala:271)\n",
       "\tat scala.util.DynamicVariable.withValue(DynamicVariable.scala:62)\n",
       "\tat com.databricks.logging.AttributionContext$.withValue(AttributionContext.scala:267)\n",
       "\tat com.databricks.logging.AttributionContextTracing.withAttributionContext(AttributionContextTracing.scala:46)\n",
       "\tat com.databricks.logging.AttributionContextTracing.withAttributionContext$(AttributionContextTracing.scala:43)\n",
       "\tat com.databricks.logging.activity.ActivityContextFactory$.withAttributionContext(ActivityContextFactory.scala:47)\n",
       "\tat com.databricks.logging.activity.ActivityContextFactory$.$anonfun$withActivityInternal$2(ActivityContextFactory.scala:681)\n",
       "\tat com.databricks.context.integrity.IntegrityCheckContext$ThreadLocalStorage$.withValue(IntegrityCheckContext.scala:73)\n",
       "\tat com.databricks.logging.activity.ActivityContextFactory$.withActivityInternal(ActivityContextFactory.scala:652)\n",
       "\tat com.databricks.logging.activity.ActivityContextFactory$.withActivityInternal(ActivityContextFactory.scala:634)\n",
       "\tat com.databricks.logging.activity.ActivityContextFactory$.withServiceRequestActivity(ActivityContextFactory.scala:253)\n",
       "\tat com.databricks.rpc.JettyServer$RequestManager.handleHttp(JettyServer.scala:521)\n",
       "\tat com.databricks.rpc.JettyServer$RequestManager.doPost(JettyServer.scala:411)\n",
       "\tat javax.servlet.http.HttpServlet.service(HttpServlet.java:665)\n",
       "\tat com.databricks.rpc.HttpServletWithPatch.service(HttpServletWithPatch.scala:33)\n",
       "\tat javax.servlet.http.HttpServlet.service(HttpServlet.java:750)\n",
       "\tat org.eclipse.jetty.servlet.ServletHolder.handle(ServletHolder.java:799)\n",
       "\tat org.eclipse.jetty.servlet.ServletHandler.doHandle(ServletHandler.java:554)\n",
       "\tat org.eclipse.jetty.server.handler.ScopedHandler.nextScope(ScopedHandler.java:190)\n",
       "\tat org.eclipse.jetty.servlet.ServletHandler.doScope(ServletHandler.java:505)\n",
       "\tat org.eclipse.jetty.server.handler.ScopedHandler.handle(ScopedHandler.java:141)\n",
       "\tat org.eclipse.jetty.server.handler.HandlerWrapper.handle(HandlerWrapper.java:127)\n",
       "\tat org.eclipse.jetty.server.Server.handle(Server.java:516)\n",
       "\tat org.eclipse.jetty.server.HttpChannel.lambda$handle$1(HttpChannel.java:487)\n",
       "\tat org.eclipse.jetty.server.HttpChannel.dispatch(HttpChannel.java:732)\n",
       "\tat org.eclipse.jetty.server.HttpChannel.handle(HttpChannel.java:479)\n",
       "\tat org.eclipse.jetty.server.HttpConnection.onFillable(HttpConnection.java:277)\n",
       "\tat org.eclipse.jetty.io.AbstractConnection$ReadCallback.succeeded(AbstractConnection.java:311)\n",
       "\tat org.eclipse.jetty.io.FillInterest.fillable(FillInterest.java:105)\n",
       "\tat org.eclipse.jetty.io.ChannelEndPoint$1.run(ChannelEndPoint.java:104)\n",
       "\tat org.eclipse.jetty.util.thread.strategy.EatWhatYouKill.runTask(EatWhatYouKill.java:338)\n",
       "\tat org.eclipse.jetty.util.thread.strategy.EatWhatYouKill.doProduce(EatWhatYouKill.java:315)\n",
       "\tat org.eclipse.jetty.util.thread.strategy.EatWhatYouKill.tryProduce(EatWhatYouKill.java:173)\n",
       "\tat org.eclipse.jetty.util.thread.strategy.EatWhatYouKill.run(EatWhatYouKill.java:131)\n",
       "\tat org.eclipse.jetty.util.thread.ReservedThreadExecutor$ReservedThread.run(ReservedThreadExecutor.java:409)\n",
       "\tat com.databricks.rpc.InstrumentedQueuedThreadPool$$anon$1.$anonfun$run$2(InstrumentedQueuedThreadPool.scala:110)\n",
       "\tat scala.runtime.java8.JFunction0$mcV$sp.apply(JFunction0$mcV$sp.java:23)\n",
       "\tat com.databricks.logging.AttributionContextTracing.$anonfun$withAttributionContext$1(AttributionContextTracing.scala:48)\n",
       "\tat com.databricks.logging.AttributionContext$.$anonfun$withValue$1(AttributionContext.scala:271)\n",
       "\tat scala.util.DynamicVariable.withValue(DynamicVariable.scala:62)\n",
       "\tat com.databricks.logging.AttributionContext$.withValue(AttributionContext.scala:267)\n",
       "\tat com.databricks.logging.AttributionContextTracing.withAttributionContext(AttributionContextTracing.scala:46)\n",
       "\tat com.databricks.logging.AttributionContextTracing.withAttributionContext$(AttributionContextTracing.scala:43)\n",
       "\tat com.databricks.rpc.InstrumentedQueuedThreadPool.withAttributionContext(InstrumentedQueuedThreadPool.scala:45)\n",
       "\tat com.databricks.rpc.InstrumentedQueuedThreadPool$$anon$1.$anonfun$run$1(InstrumentedQueuedThreadPool.scala:110)\n",
       "\tat scala.runtime.java8.JFunction0$mcV$sp.apply(JFunction0$mcV$sp.java:23)\n",
       "\tat com.databricks.instrumentation.QueuedThreadPoolInstrumenter.trackActiveThreads(QueuedThreadPoolInstrumenter.scala:126)\n",
       "\tat com.databricks.instrumentation.QueuedThreadPoolInstrumenter.trackActiveThreads$(QueuedThreadPoolInstrumenter.scala:123)\n",
       "\tat com.databricks.rpc.InstrumentedQueuedThreadPool.trackActiveThreads(InstrumentedQueuedThreadPool.scala:45)\n",
       "\tat com.databricks.rpc.InstrumentedQueuedThreadPool$$anon$1.run(InstrumentedQueuedThreadPool.scala:92)\n",
       "\tat org.eclipse.jetty.util.thread.QueuedThreadPool.runJob(QueuedThreadPool.java:883)\n",
       "\tat org.eclipse.jetty.util.thread.QueuedThreadPool$Runner.run(QueuedThreadPool.java:1034)\n",
       "\tat java.lang.Thread.run(Thread.java:840)\n"
      ]
     },
     "metadata": {
      "application/vnd.databricks.v1+output": {
       "addedWidgets": {},
       "arguments": {},
       "datasetInfos": [],
       "jupyterProps": {
        "ename": "ExecutionError",
        "evalue": "An error occurred while calling o417.mount.\n: java.rmi.RemoteException: java.lang.IllegalArgumentException: requirement failed: Directory already mounted: /mnt/new_olympic_project; nested exception is: \n\tjava.lang.IllegalArgumentException: requirement failed: Directory already mounted: /mnt/new_olympic_project\n\tat com.databricks.backend.daemon.data.client.DbfsClient.send0(DbfsClient.scala:148)\n\tat com.databricks.backend.daemon.data.client.DbfsClient.sendIdempotent(DbfsClient.scala:70)\n\tat com.databricks.backend.daemon.dbutils.DBUtilsCore.createOrUpdateMount(DBUtilsCore.scala:1142)\n\tat com.databricks.backend.daemon.dbutils.DBUtilsCore.$anonfun$mount$1(DBUtilsCore.scala:1168)\n\tat com.databricks.logging.UsageLogging.$anonfun$recordOperation$1(UsageLogging.scala:527)\n\tat com.databricks.logging.UsageLogging.executeThunkAndCaptureResultTags$1(UsageLogging.scala:631)\n\tat com.databricks.logging.UsageLogging.$anonfun$recordOperationWithResultTags$4(UsageLogging.scala:651)\n\tat com.databricks.logging.AttributionContextTracing.$anonfun$withAttributionContext$1(AttributionContextTracing.scala:48)\n\tat com.databricks.logging.AttributionContext$.$anonfun$withValue$1(AttributionContext.scala:276)\n\tat scala.util.DynamicVariable.withValue(DynamicVariable.scala:62)\n\tat com.databricks.logging.AttributionContext$.withValue(AttributionContext.scala:272)\n\tat com.databricks.logging.AttributionContextTracing.withAttributionContext(AttributionContextTracing.scala:46)\n\tat com.databricks.logging.AttributionContextTracing.withAttributionContext$(AttributionContextTracing.scala:43)\n\tat com.databricks.backend.daemon.dbutils.FSUtils.withAttributionContext(DBUtilsCore.scala:74)\n\tat com.databricks.logging.AttributionContextTracing.withAttributionTags(AttributionContextTracing.scala:95)\n\tat com.databricks.logging.AttributionContextTracing.withAttributionTags$(AttributionContextTracing.scala:76)\n\tat com.databricks.backend.daemon.dbutils.FSUtils.withAttributionTags(DBUtilsCore.scala:74)\n\tat com.databricks.logging.UsageLogging.recordOperationWithResultTags(UsageLogging.scala:626)\n\tat com.databricks.logging.UsageLogging.recordOperationWithResultTags$(UsageLogging.scala:536)\n\tat com.databricks.backend.daemon.dbutils.FSUtils.recordOperationWithResultTags(DBUtilsCore.scala:74)\n\tat com.databricks.logging.UsageLogging.recordOperation(UsageLogging.scala:528)\n\tat com.databricks.logging.UsageLogging.recordOperation$(UsageLogging.scala:496)\n\tat com.databricks.backend.daemon.dbutils.FSUtils.recordOperation(DBUtilsCore.scala:74)\n\tat com.databricks.backend.daemon.dbutils.FSUtils.recordDbutilsFsOp(DBUtilsCore.scala:138)\n\tat com.databricks.backend.daemon.dbutils.DBUtilsCore.mount(DBUtilsCore.scala:1162)\n\tat sun.reflect.NativeMethodAccessorImpl.invoke0(Native Method)\n\tat sun.reflect.NativeMethodAccessorImpl.invoke(NativeMethodAccessorImpl.java:62)\n\tat sun.reflect.DelegatingMethodAccessorImpl.invoke(DelegatingMethodAccessorImpl.java:43)\n\tat java.lang.reflect.Method.invoke(Method.java:498)\n\tat py4j.reflection.MethodInvoker.invoke(MethodInvoker.java:244)\n\tat py4j.reflection.ReflectionEngine.invoke(ReflectionEngine.java:397)\n\tat py4j.Gateway.invoke(Gateway.java:306)\n\tat py4j.commands.AbstractCommand.invokeMethod(AbstractCommand.java:132)\n\tat py4j.commands.CallCommand.execute(CallCommand.java:79)\n\tat py4j.ClientServerConnection.waitForCommands(ClientServerConnection.java:199)\n\tat py4j.ClientServerConnection.run(ClientServerConnection.java:119)\n\tat java.lang.Thread.run(Thread.java:750)\nCaused by: java.lang.IllegalArgumentException: requirement failed: Directory already mounted: /mnt/new_olympic_project\n\tat scala.Predef$.require(Predef.scala:281)\n\tat com.databricks.backend.daemon.data.server.DefaultMetadataManager.$anonfun$insertMount$1(MetadataManager.scala:800)\n\tat com.databricks.backend.daemon.data.server.DefaultMetadataManager.$anonfun$modifyAndVerify$2(MetadataManager.scala:1182)\n\tat scala.runtime.java8.JFunction0$mcV$sp.apply(JFunction0$mcV$sp.java:23)\n\tat com.databricks.backend.daemon.data.server.DefaultMetadataManager.withRetries(MetadataManager.scala:955)\n\tat com.databricks.backend.daemon.data.server.DefaultMetadataManager.modifyAndVerify(MetadataManager.scala:1171)\n\tat com.databricks.backend.daemon.data.server.DefaultMetadataManager.insertMount(MetadataManager.scala:808)\n\tat com.databricks.backend.daemon.data.server.handler.MountHandler.receive(MountHandler.scala:128)\n\tat com.databricks.backend.daemon.data.server.session.SessionContext.$anonfun$queryHandlers$1(SessionContext.scala:54)\n\tat com.databricks.backend.daemon.data.server.session.SessionContext.$anonfun$queryHandlers$1$adapted(SessionContext.scala:53)\n\tat scala.collection.immutable.List.foreach(List.scala:431)\n\tat com.databricks.backend.daemon.data.server.session.SessionContext.queryHandlers(SessionContext.scala:53)\n\tat com.databricks.backend.daemon.data.server.DbfsServerBackend$$anonfun$receive$4.$anonfun$applyOrElse$10(DbfsServerBackend.scala:451)\n\tat com.databricks.logging.AttributionContextTracing.$anonfun$withAttributionContext$1(AttributionContextTracing.scala:48)\n\tat com.databricks.logging.AttributionContext$.$anonfun$withValue$1(AttributionContext.scala:271)\n\tat scala.util.DynamicVariable.withValue(DynamicVariable.scala:62)\n\tat com.databricks.logging.AttributionContext$.withValue(AttributionContext.scala:267)\n\tat com.databricks.logging.AttributionContextTracing.withAttributionContext(AttributionContextTracing.scala:46)\n\tat com.databricks.logging.AttributionContextTracing.withAttributionContext$(AttributionContextTracing.scala:43)\n\tat com.databricks.rpc.ServerBackend.withAttributionContext(ServerBackend.scala:22)\n\tat com.databricks.logging.AttributionContextTracing.withAttributionTags(AttributionContextTracing.scala:95)\n\tat com.databricks.logging.AttributionContextTracing.withAttributionTags$(AttributionContextTracing.scala:76)\n\tat com.databricks.rpc.ServerBackend.withAttributionTags(ServerBackend.scala:22)\n\tat com.databricks.backend.daemon.data.server.DbfsServerBackend$$anonfun$receive$4.applyOrElse(DbfsServerBackend.scala:451)\n\tat com.databricks.backend.daemon.data.server.DbfsServerBackend$$anonfun$receive$4.applyOrElse(DbfsServerBackend.scala:344)\n\tat com.databricks.rpc.ServerBackend.$anonfun$internalReceive0$2(ServerBackend.scala:174)\n\tat com.databricks.rpc.ServerBackend$$anonfun$commonReceive$1.applyOrElse(ServerBackend.scala:200)\n\tat com.databricks.rpc.ServerBackend$$anonfun$commonReceive$1.applyOrElse(ServerBackend.scala:200)\n\tat com.databricks.rpc.ServerBackend.internalReceive0(ServerBackend.scala:171)\n\tat com.databricks.rpc.ServerBackend.$anonfun$internalReceive$1(ServerBackend.scala:147)\n\tat com.databricks.logging.UsageLogging.$anonfun$recordOperation$1(UsageLogging.scala:508)\n\tat com.databricks.logging.UsageLogging.executeThunkAndCaptureResultTags$1(UsageLogging.scala:613)\n\tat com.databricks.logging.UsageLogging.$anonfun$recordOperationWithResultTags$4(UsageLogging.scala:636)\n\tat com.databricks.logging.AttributionContextTracing.$anonfun$withAttributionContext$1(AttributionContextTracing.scala:48)\n\tat com.databricks.logging.AttributionContext$.$anonfun$withValue$1(AttributionContext.scala:271)\n\tat scala.util.DynamicVariable.withValue(DynamicVariable.scala:62)\n\tat com.databricks.logging.AttributionContext$.withValue(AttributionContext.scala:267)\n\tat com.databricks.logging.AttributionContextTracing.withAttributionContext(AttributionContextTracing.scala:46)\n\tat com.databricks.logging.AttributionContextTracing.withAttributionContext$(AttributionContextTracing.scala:43)\n\tat com.databricks.rpc.ServerBackend.withAttributionContext(ServerBackend.scala:22)\n\tat com.databricks.logging.AttributionContextTracing.withAttributionTags(AttributionContextTracing.scala:95)\n\tat com.databricks.logging.AttributionContextTracing.withAttributionTags$(AttributionContextTracing.scala:76)\n\tat com.databricks.rpc.ServerBackend.withAttributionTags(ServerBackend.scala:22)\n\tat com.databricks.logging.UsageLogging.recordOperationWithResultTags(UsageLogging.scala:608)\n\tat com.databricks.logging.UsageLogging.recordOperationWithResultTags$(UsageLogging.scala:517)\n\tat com.databricks.rpc.ServerBackend.recordOperationWithResultTags(ServerBackend.scala:22)\n\tat com.databricks.logging.UsageLogging.recordOperation(UsageLogging.scala:509)\n\tat com.databricks.logging.UsageLogging.recordOperation$(UsageLogging.scala:475)\n\tat com.databricks.rpc.ServerBackend.recordOperation(ServerBackend.scala:22)\n\tat com.databricks.rpc.ServerBackend.internalReceive(ServerBackend.scala:146)\n\tat com.databricks.rpc.JettyServer$RequestManager.handleRPC(JettyServer.scala:1032)\n\tat com.databricks.rpc.JettyServer$RequestManager.handleRequestAndRespond(JettyServer.scala:952)\n\tat com.databricks.rpc.JettyServer$RequestManager.$anonfun$handleHttp$6(JettyServer.scala:552)\n\tat com.databricks.rpc.JettyServer$RequestManager.$anonfun$handleHttp$6$adapted(JettyServer.scala:521)\n\tat com.databricks.logging.activity.ActivityContextFactory$.$anonfun$withActivityInternal$8(ActivityContextFactory.scala:681)\n\tat com.databricks.logging.AttributionContextTracing.$anonfun$withAttributionContext$1(AttributionContextTracing.scala:48)\n\tat com.databricks.logging.AttributionContext$.$anonfun$withValue$1(AttributionContext.scala:271)\n\tat scala.util.DynamicVariable.withValue(DynamicVariable.scala:62)\n\tat com.databricks.logging.AttributionContext$.withValue(AttributionContext.scala:267)\n\tat com.databricks.logging.AttributionContextTracing.withAttributionContext(AttributionContextTracing.scala:46)\n\tat com.databricks.logging.AttributionContextTracing.withAttributionContext$(AttributionContextTracing.scala:43)\n\tat com.databricks.logging.activity.ActivityContextFactory$.withAttributionContext(ActivityContextFactory.scala:47)\n\tat com.databricks.logging.activity.ActivityContextFactory$.$anonfun$withActivityInternal$2(ActivityContextFactory.scala:681)\n\tat com.databricks.context.integrity.IntegrityCheckContext$ThreadLocalStorage$.withValue(IntegrityCheckContext.scala:73)\n\tat com.databricks.logging.activity.ActivityContextFactory$.withActivityInternal(ActivityContextFactory.scala:652)\n\tat com.databricks.logging.activity.ActivityContextFactory$.withActivityInternal(ActivityContextFactory.scala:634)\n\tat com.databricks.logging.activity.ActivityContextFactory$.withServiceRequestActivity(ActivityContextFactory.scala:253)\n\tat com.databricks.rpc.JettyServer$RequestManager.handleHttp(JettyServer.scala:521)\n\tat com.databricks.rpc.JettyServer$RequestManager.doPost(JettyServer.scala:411)\n\tat javax.servlet.http.HttpServlet.service(HttpServlet.java:665)\n\tat com.databricks.rpc.HttpServletWithPatch.service(HttpServletWithPatch.scala:33)\n\tat javax.servlet.http.HttpServlet.service(HttpServlet.java:750)\n\tat org.eclipse.jetty.servlet.ServletHolder.handle(ServletHolder.java:799)\n\tat org.eclipse.jetty.servlet.ServletHandler.doHandle(ServletHandler.java:554)\n\tat org.eclipse.jetty.server.handler.ScopedHandler.nextScope(ScopedHandler.java:190)\n\tat org.eclipse.jetty.servlet.ServletHandler.doScope(ServletHandler.java:505)\n\tat org.eclipse.jetty.server.handler.ScopedHandler.handle(ScopedHandler.java:141)\n\tat org.eclipse.jetty.server.handler.HandlerWrapper.handle(HandlerWrapper.java:127)\n\tat org.eclipse.jetty.server.Server.handle(Server.java:516)\n\tat org.eclipse.jetty.server.HttpChannel.lambda$handle$1(HttpChannel.java:487)\n\tat org.eclipse.jetty.server.HttpChannel.dispatch(HttpChannel.java:732)\n\tat org.eclipse.jetty.server.HttpChannel.handle(HttpChannel.java:479)\n\tat org.eclipse.jetty.server.HttpConnection.onFillable(HttpConnection.java:277)\n\tat org.eclipse.jetty.io.AbstractConnection$ReadCallback.succeeded(AbstractConnection.java:311)\n\tat org.eclipse.jetty.io.FillInterest.fillable(FillInterest.java:105)\n\tat org.eclipse.jetty.io.ChannelEndPoint$1.run(ChannelEndPoint.java:104)\n\tat org.eclipse.jetty.util.thread.strategy.EatWhatYouKill.runTask(EatWhatYouKill.java:338)\n\tat org.eclipse.jetty.util.thread.strategy.EatWhatYouKill.doProduce(EatWhatYouKill.java:315)\n\tat org.eclipse.jetty.util.thread.strategy.EatWhatYouKill.tryProduce(EatWhatYouKill.java:173)\n\tat org.eclipse.jetty.util.thread.strategy.EatWhatYouKill.run(EatWhatYouKill.java:131)\n\tat org.eclipse.jetty.util.thread.ReservedThreadExecutor$ReservedThread.run(ReservedThreadExecutor.java:409)\n\tat com.databricks.rpc.InstrumentedQueuedThreadPool$$anon$1.$anonfun$run$2(InstrumentedQueuedThreadPool.scala:110)\n\tat scala.runtime.java8.JFunction0$mcV$sp.apply(JFunction0$mcV$sp.java:23)\n\tat com.databricks.logging.AttributionContextTracing.$anonfun$withAttributionContext$1(AttributionContextTracing.scala:48)\n\tat com.databricks.logging.AttributionContext$.$anonfun$withValue$1(AttributionContext.scala:271)\n\tat scala.util.DynamicVariable.withValue(DynamicVariable.scala:62)\n\tat com.databricks.logging.AttributionContext$.withValue(AttributionContext.scala:267)\n\tat com.databricks.logging.AttributionContextTracing.withAttributionContext(AttributionContextTracing.scala:46)\n\tat com.databricks.logging.AttributionContextTracing.withAttributionContext$(AttributionContextTracing.scala:43)\n\tat com.databricks.rpc.InstrumentedQueuedThreadPool.withAttributionContext(InstrumentedQueuedThreadPool.scala:45)\n\tat com.databricks.rpc.InstrumentedQueuedThreadPool$$anon$1.$anonfun$run$1(InstrumentedQueuedThreadPool.scala:110)\n\tat scala.runtime.java8.JFunction0$mcV$sp.apply(JFunction0$mcV$sp.java:23)\n\tat com.databricks.instrumentation.QueuedThreadPoolInstrumenter.trackActiveThreads(QueuedThreadPoolInstrumenter.scala:126)\n\tat com.databricks.instrumentation.QueuedThreadPoolInstrumenter.trackActiveThreads$(QueuedThreadPoolInstrumenter.scala:123)\n\tat com.databricks.rpc.InstrumentedQueuedThreadPool.trackActiveThreads(InstrumentedQueuedThreadPool.scala:45)\n\tat com.databricks.rpc.InstrumentedQueuedThreadPool$$anon$1.run(InstrumentedQueuedThreadPool.scala:92)\n\tat org.eclipse.jetty.util.thread.QueuedThreadPool.runJob(QueuedThreadPool.java:883)\n\tat org.eclipse.jetty.util.thread.QueuedThreadPool$Runner.run(QueuedThreadPool.java:1034)\n\tat java.lang.Thread.run(Thread.java:840)\n"
       },
       "metadata": {
        "errorSummary": "<span class='ansi-red-fg'>ExecutionError</span>: An error occurred while calling o417.mount.\n: java.rmi.RemoteException: java.lang.IllegalArgumentException: requirement failed: Directory already mounted: /mnt/new_olympic_project; nested exception is: \n\tjava.lang.IllegalArgumentException: requirement failed: Directory already mounted: /mnt/new_olympic_project\n\tat com.databricks.backend.daemon.data.client.DbfsClient.send0(DbfsClient.scala:148)\n\tat com.databricks.backend.daemon.data.client.DbfsClient.sendIdempotent(DbfsClient.scala:70)\n\tat com.databricks.backend.daemon.dbutils.DBUtilsCore.createOrUpdateMount(DBUtilsCore.scala:1142)\n\tat com.databricks.backend.daemon.dbutils.DBUtilsCore.$anonfun$mount$1(DBUtilsCore.scala:1168)\n\tat com.databricks.logging.UsageLogging.$anonfun$recordOperation$1(UsageLogging.scala:527)\n\tat com.databricks.logging.UsageLogging.executeThunkAndCaptureResultTags$1(UsageLogging.scala:631)\n\tat com.databricks.logging.UsageLogging.$anonfun$recordOperationWithResultTags$4(UsageLogging.scala:651)\n\tat com.databricks.logging.AttributionContextTracing.$anonfun$withAttributionContext$1(AttributionContextTracing.scala:48)\n\tat com.databricks.logging.AttributionContext$.$anonfun$withValue$1(AttributionContext.scala:276)\n\tat scala.util.DynamicVariable.withValue(DynamicVariable.scala:62)\n\tat com.databricks.logging.AttributionContext$.withValue(AttributionContext.scala:272)\n\tat com.databricks.logging.AttributionContextTracing.withAttributionContext(AttributionContextTracing.scala:46)\n\tat com.databricks.logging.AttributionContextTracing.withAttributionContext$(AttributionContextTracing.scala:43)\n\tat com.databricks.backend.daemon.dbutils.FSUtils.withAttributionContext(DBUtilsCore.scala:74)\n\tat com.databricks.logging.AttributionContextTracing.withAttributionTags(AttributionContextTracing.scala:95)\n\tat com.databricks.logging.AttributionContextTracing.withAttributionTags$(AttributionContextTracing.scala:76)\n\tat com.databricks.backend.daemon.dbutils.FSUtils.withAttributionTags(DBUtilsCore.scala:74)\n\tat com.databricks.logging.UsageLogging.recordOperationWithResultTags(UsageLogging.scala:626)\n\tat com.databricks.logging.UsageLogging.recordOperationWithResultTags$(UsageLogging.scala:536)\n\tat com.databricks.backend.daemon.dbutils.FSUtils.recordOperationWithResultTags(DBUtilsCore.scala:74)\n\tat com.databricks.logging.UsageLogging.recordOperation(UsageLogging.scala:528)\n\tat com.databricks.logging.UsageLogging.recordOperation$(UsageLogging.scala:496)\n\tat com.databricks.backend.daemon.dbutils.FSUtils.recordOperation(DBUtilsCore.scala:74)\n\tat com.databricks.backend.daemon.dbutils.FSUtils.recordDbutilsFsOp(DBUtilsCore.scala:138)\n\tat com.databricks.backend.daemon.dbutils.DBUtilsCore.mount(DBUtilsCore.scala:1162)\n\tat sun.reflect.NativeMethodAccessorImpl.invoke0(Native Method)\n\tat sun.reflect.NativeMethodAccessorImpl.invoke(NativeMethodAccessorImpl.java:62)\n\tat sun.reflect.DelegatingMethodAccessorImpl.invoke(DelegatingMethodAccessorImpl.java:43)\n\tat java.lang.reflect.Method.invoke(Method.java:498)\n\tat py4j.reflection.MethodInvoker.invoke(MethodInvoker.java:244)\n\tat py4j.reflection.ReflectionEngine.invoke(ReflectionEngine.java:397)\n\tat py4j.Gateway.invoke(Gateway.java:306)\n\tat py4j.commands.AbstractCommand.invokeMethod(AbstractCommand.java:132)\n\tat py4j.commands.CallCommand.execute(CallCommand.java:79)\n\tat py4j.ClientServerConnection.waitForCommands(ClientServerConnection.java:199)\n\tat py4j.ClientServerConnection.run(ClientServerConnection.java:119)\n\tat java.lang.Thread.run(Thread.java:750)\nCaused by: java.lang.IllegalArgumentException: requirement failed: Directory already mounted: /mnt/new_olympic_project\n\tat scala.Predef$.require(Predef.scala:281)\n\tat com.databricks.backend.daemon.data.server.DefaultMetadataManager.$anonfun$insertMount$1(MetadataManager.scala:800)\n\tat com.databricks.backend.daemon.data.server.DefaultMetadataManager.$anonfun$modifyAndVerify$2(MetadataManager.scala:1182)\n\tat scala.runtime.java8.JFunction0$mcV$sp.apply(JFunction0$mcV$sp.java:23)\n\tat com.databricks.backend.daemon.data.server.DefaultMetadataManager.withRetries(MetadataManager.scala:955)\n\tat com.databricks.backend.daemon.data.server.DefaultMetadataManager.modifyAndVerify(MetadataManager.scala:1171)\n\tat com.databricks.backend.daemon.data.server.DefaultMetadataManager.insertMount(MetadataManager.scala:808)\n\tat com.databricks.backend.daemon.data.server.handler.MountHandler.receive(MountHandler.scala:128)\n\tat com.databricks.backend.daemon.data.server.session.SessionContext.$anonfun$queryHandlers$1(SessionContext.scala:54)\n\tat com.databricks.backend.daemon.data.server.session.SessionContext.$anonfun$queryHandlers$1$adapted(SessionContext.scala:53)\n\tat scala.collection.immutable.List.foreach(List.scala:431)\n\tat com.databricks.backend.daemon.data.server.session.SessionContext.queryHandlers(SessionContext.scala:53)\n\tat com.databricks.backend.daemon.data.server.DbfsServerBackend$$anonfun$receive$4.$anonfun$applyOrElse$10(DbfsServerBackend.scala:451)\n\tat com.databricks.logging.AttributionContextTracing.$anonfun$withAttributionContext$1(AttributionContextTracing.scala:48)\n\tat com.databricks.logging.AttributionContext$.$anonfun$withValue$1(AttributionContext.scala:271)\n\tat scala.util.DynamicVariable.withValue(DynamicVariable.scala:62)\n\tat com.databricks.logging.AttributionContext$.withValue(AttributionContext.scala:267)\n\tat com.databricks.logging.AttributionContextTracing.withAttributionContext(AttributionContextTracing.scala:46)\n\tat com.databricks.logging.AttributionContextTracing.withAttributionContext$(AttributionContextTracing.scala:43)\n\tat com.databricks.rpc.ServerBackend.withAttributionContext(ServerBackend.scala:22)\n\tat com.databricks.logging.AttributionContextTracing.withAttributionTags(AttributionContextTracing.scala:95)\n\tat com.databricks.logging.AttributionContextTracing.withAttributionTags$(AttributionContextTracing.scala:76)\n\tat com.databricks.rpc.ServerBackend.withAttributionTags(ServerBackend.scala:22)\n\tat com.databricks.backend.daemon.data.server.DbfsServerBackend$$anonfun$receive$4.applyOrElse(DbfsServerBackend.scala:451)\n\tat com.databricks.backend.daemon.data.server.DbfsServerBackend$$anonfun$receive$4.applyOrElse(DbfsServerBackend.scala:344)\n\tat com.databricks.rpc.ServerBackend.$anonfun$internalReceive0$2(ServerBackend.scala:174)\n\tat com.databricks.rpc.ServerBackend$$anonfun$commonReceive$1.applyOrElse(ServerBackend.scala:200)\n\tat com.databricks.rpc.ServerBackend$$anonfun$commonReceive$1.applyOrElse(ServerBackend.scala:200)\n\tat com.databricks.rpc.ServerBackend.internalReceive0(ServerBackend.scala:171)\n\tat com.databricks.rpc.ServerBackend.$anonfun$internalReceive$1(ServerBackend.scala:147)\n\tat com.databricks.logging.UsageLogging.$anonfun$recordOperation$1(UsageLogging.scala:508)\n\tat com.databricks.logging.UsageLogging.executeThunkAndCaptureResultTags$1(UsageLogging.scala:613)\n\tat com.databricks.logging.UsageLogging.$anonfun$recordOperationWithResultTags$4(UsageLogging.scala:636)\n\tat com.databricks.logging.AttributionContextTracing.$anonfun$withAttributionContext$1(AttributionContextTracing.scala:48)\n\tat com.databricks.logging.AttributionContext$.$anonfun$withValue$1(AttributionContext.scala:271)\n\tat scala.util.DynamicVariable.withValue(DynamicVariable.scala:62)\n\tat com.databricks.logging.AttributionContext$.withValue(AttributionContext.scala:267)\n\tat com.databricks.logging.AttributionContextTracing.withAttributionContext(AttributionContextTracing.scala:46)\n\tat com.databricks.logging.AttributionContextTracing.withAttributionContext$(AttributionContextTracing.scala:43)\n\tat com.databricks.rpc.ServerBackend.withAttributionContext(ServerBackend.scala:22)\n\tat com.databricks.logging.AttributionContextTracing.withAttributionTags(AttributionContextTracing.scala:95)\n\tat com.databricks.logging.AttributionContextTracing.withAttributionTags$(AttributionContextTracing.scala:76)\n\tat com.databricks.rpc.ServerBackend.withAttributionTags(ServerBackend.scala:22)\n\tat com.databricks.logging.UsageLogging.recordOperationWithResultTags(UsageLogging.scala:608)\n\tat com.databricks.logging.UsageLogging.recordOperationWithResultTags$(UsageLogging.scala:517)\n\tat com.databricks.rpc.ServerBackend.recordOperationWithResultTags(ServerBackend.scala:22)\n\tat com.databricks.logging.UsageLogging.recordOperation(UsageLogging.scala:509)\n\tat com.databricks.logging.UsageLogging.recordOperation$(UsageLogging.scala:475)\n\tat com.databricks.rpc.ServerBackend.recordOperation(ServerBackend.scala:22)\n\tat com.databricks.rpc.ServerBackend.internalReceive(ServerBackend.scala:146)\n\tat com.databricks.rpc.JettyServer$RequestManager.handleRPC(JettyServer.scala:1032)\n\tat com.databricks.rpc.JettyServer$RequestManager.handleRequestAndRespond(JettyServer.scala:952)\n\tat com.databricks.rpc.JettyServer$RequestManager.$anonfun$handleHttp$6(JettyServer.scala:552)\n\tat com.databricks.rpc.JettyServer$RequestManager.$anonfun$handleHttp$6$adapted(JettyServer.scala:521)\n\tat com.databricks.logging.activity.ActivityContextFactory$.$anonfun$withActivityInternal$8(ActivityContextFactory.scala:681)\n\tat com.databricks.logging.AttributionContextTracing.$anonfun$withAttributionContext$1(AttributionContextTracing.scala:48)\n\tat com.databricks.logging.AttributionContext$.$anonfun$withValue$1(AttributionContext.scala:271)\n\tat scala.util.DynamicVariable.withValue(DynamicVariable.scala:62)\n\tat com.databricks.logging.AttributionContext$.withValue(AttributionContext.scala:267)\n\tat com.databricks.logging.AttributionContextTracing.withAttributionContext(AttributionContextTracing.scala:46)\n\tat com.databricks.logging.AttributionContextTracing.withAttributionContext$(AttributionContextTracing.scala:43)\n\tat com.databricks.logging.activity.ActivityContextFactory$.withAttributionContext(ActivityContextFactory.scala:47)\n\tat com.databricks.logging.activity.ActivityContextFactory$.$anonfun$withActivityInternal$2(ActivityContextFactory.scala:681)\n\tat com.databricks.context.integrity.IntegrityCheckContext$ThreadLocalStorage$.withValue(IntegrityCheckContext.scala:73)\n\tat com.databricks.logging.activity.ActivityContextFactory$.withActivityInternal(ActivityContextFactory.scala:652)\n\tat com.databricks.logging.activity.ActivityContextFactory$.withActivityInternal(ActivityContextFactory.scala:634)\n\tat com.databricks.logging.activity.ActivityContextFactory$.withServiceRequestActivity(ActivityContextFactory.scala:253)\n\tat com.databricks.rpc.JettyServer$RequestManager.handleHttp(JettyServer.scala:521)\n\tat com.databricks.rpc.JettyServer$RequestManager.doPost(JettyServer.scala:411)\n\tat javax.servlet.http.HttpServlet.service(HttpServlet.java:665)\n\tat com.databricks.rpc.HttpServletWithPatch.service(HttpServletWithPatch.scala:33)\n\tat javax.servlet.http.HttpServlet.service(HttpServlet.java:750)\n\tat org.eclipse.jetty.servlet.ServletHolder.handle(ServletHolder.java:799)\n\tat org.eclipse.jetty.servlet.ServletHandler.doHandle(ServletHandler.java:554)\n\tat org.eclipse.jetty.server.handler.ScopedHandler.nextScope(ScopedHandler.java:190)\n\tat org.eclipse.jetty.servlet.ServletHandler.doScope(ServletHandler.java:505)\n\tat org.eclipse.jetty.server.handler.ScopedHandler.handle(ScopedHandler.java:141)\n\tat org.eclipse.jetty.server.handler.HandlerWrapper.handle(HandlerWrapper.java:127)\n\tat org.eclipse.jetty.server.Server.handle(Server.java:516)\n\tat org.eclipse.jetty.server.HttpChannel.lambda$handle$1(HttpChannel.java:487)\n\tat org.eclipse.jetty.server.HttpChannel.dispatch(HttpChannel.java:732)\n\tat org.eclipse.jetty.server.HttpChannel.handle(HttpChannel.java:479)\n\tat org.eclipse.jetty.server.HttpConnection.onFillable(HttpConnection.java:277)\n\tat org.eclipse.jetty.io.AbstractConnection$ReadCallback.succeeded(AbstractConnection.java:311)\n\tat org.eclipse.jetty.io.FillInterest.fillable(FillInterest.java:105)\n\tat org.eclipse.jetty.io.ChannelEndPoint$1.run(ChannelEndPoint.java:104)\n\tat org.eclipse.jetty.util.thread.strategy.EatWhatYouKill.runTask(EatWhatYouKill.java:338)\n\tat org.eclipse.jetty.util.thread.strategy.EatWhatYouKill.doProduce(EatWhatYouKill.java:315)\n\tat org.eclipse.jetty.util.thread.strategy.EatWhatYouKill.tryProduce(EatWhatYouKill.java:173)\n\tat org.eclipse.jetty.util.thread.strategy.EatWhatYouKill.run(EatWhatYouKill.java:131)\n\tat org.eclipse.jetty.util.thread.ReservedThreadExecutor$ReservedThread.run(ReservedThreadExecutor.java:409)\n\tat com.databricks.rpc.InstrumentedQueuedThreadPool$$anon$1.$anonfun$run$2(InstrumentedQueuedThreadPool.scala:110)\n\tat scala.runtime.java8.JFunction0$mcV$sp.apply(JFunction0$mcV$sp.java:23)\n\tat com.databricks.logging.AttributionContextTracing.$anonfun$withAttributionContext$1(AttributionContextTracing.scala:48)\n\tat com.databricks.logging.AttributionContext$.$anonfun$withValue$1(AttributionContext.scala:271)\n\tat scala.util.DynamicVariable.withValue(DynamicVariable.scala:62)\n\tat com.databricks.logging.AttributionContext$.withValue(AttributionContext.scala:267)\n\tat com.databricks.logging.AttributionContextTracing.withAttributionContext(AttributionContextTracing.scala:46)\n\tat com.databricks.logging.AttributionContextTracing.withAttributionContext$(AttributionContextTracing.scala:43)\n\tat com.databricks.rpc.InstrumentedQueuedThreadPool.withAttributionContext(InstrumentedQueuedThreadPool.scala:45)\n\tat com.databricks.rpc.InstrumentedQueuedThreadPool$$anon$1.$anonfun$run$1(InstrumentedQueuedThreadPool.scala:110)\n\tat scala.runtime.java8.JFunction0$mcV$sp.apply(JFunction0$mcV$sp.java:23)\n\tat com.databricks.instrumentation.QueuedThreadPoolInstrumenter.trackActiveThreads(QueuedThreadPoolInstrumenter.scala:126)\n\tat com.databricks.instrumentation.QueuedThreadPoolInstrumenter.trackActiveThreads$(QueuedThreadPoolInstrumenter.scala:123)\n\tat com.databricks.rpc.InstrumentedQueuedThreadPool.trackActiveThreads(InstrumentedQueuedThreadPool.scala:45)\n\tat com.databricks.rpc.InstrumentedQueuedThreadPool$$anon$1.run(InstrumentedQueuedThreadPool.scala:92)\n\tat org.eclipse.jetty.util.thread.QueuedThreadPool.runJob(QueuedThreadPool.java:883)\n\tat org.eclipse.jetty.util.thread.QueuedThreadPool$Runner.run(QueuedThreadPool.java:1034)\n\tat java.lang.Thread.run(Thread.java:840)\n"
       },
       "removedWidgets": [],
       "sqlProps": null,
       "stackFrames": [
        "\u001B[0;31m---------------------------------------------------------------------------\u001B[0m",
        "\u001B[0;31mExecutionError\u001B[0m                            Traceback (most recent call last)",
        "File \u001B[0;32m<command-2206391917820686>, line 1\u001B[0m\n\u001B[0;32m----> 1\u001B[0m dbutils\u001B[38;5;241m.\u001B[39mfs\u001B[38;5;241m.\u001B[39mmount(\n\u001B[1;32m      2\u001B[0m     source\u001B[38;5;241m=\u001B[39m\u001B[38;5;124m'\u001B[39m\u001B[38;5;124mwasbs://tokyo-olympic-data@olympicproject2021adls.blob.core.windows.net\u001B[39m\u001B[38;5;124m'\u001B[39m,\n\u001B[1;32m      3\u001B[0m     mount_point\u001B[38;5;241m=\u001B[39m\u001B[38;5;124m'\u001B[39m\u001B[38;5;124m/mnt/new_olympic_project\u001B[39m\u001B[38;5;124m'\u001B[39m,\n\u001B[1;32m      4\u001B[0m     extra_configs\u001B[38;5;241m=\u001B[39m{\n\u001B[1;32m      5\u001B[0m         \u001B[38;5;124m'\u001B[39m\u001B[38;5;124mfs.azure.sas.tokyo-olympic-data.olympicproject2021adls.blob.core.windows.net\u001B[39m\u001B[38;5;124m'\u001B[39m: \u001B[38;5;124m'\u001B[39m\u001B[38;5;124msv=2022-11-02&ss=b&srt=sco&sp=rwdlacyx&se=2024-11-29T12:58:58Z&st=2024-11-29T04:58:58Z&spr=https&sig=IGDebPYDj1g825ynLk5TsqrZhigY2dzEMhft\u001B[39m\u001B[38;5;132;01m%2F\u001B[39;00m\u001B[38;5;124myz3WVo\u001B[39m\u001B[38;5;124m%\u001B[39m\u001B[38;5;124m3D\u001B[39m\u001B[38;5;124m'\u001B[39m\n\u001B[1;32m      6\u001B[0m     }\n\u001B[1;32m      7\u001B[0m )\n",
        "File \u001B[0;32m/databricks/python_shell/dbruntime/dbutils.py:158\u001B[0m, in \u001B[0;36mprettify_exception_message.<locals>.f_with_exception_handling\u001B[0;34m(*args, **kwargs)\u001B[0m\n\u001B[1;32m    156\u001B[0m exc\u001B[38;5;241m.\u001B[39m__context__ \u001B[38;5;241m=\u001B[39m \u001B[38;5;28;01mNone\u001B[39;00m\n\u001B[1;32m    157\u001B[0m exc\u001B[38;5;241m.\u001B[39m__cause__ \u001B[38;5;241m=\u001B[39m \u001B[38;5;28;01mNone\u001B[39;00m\n\u001B[0;32m--> 158\u001B[0m \u001B[38;5;28;01mraise\u001B[39;00m exc\n",
        "\u001B[0;31mExecutionError\u001B[0m: An error occurred while calling o417.mount.\n: java.rmi.RemoteException: java.lang.IllegalArgumentException: requirement failed: Directory already mounted: /mnt/new_olympic_project; nested exception is: \n\tjava.lang.IllegalArgumentException: requirement failed: Directory already mounted: /mnt/new_olympic_project\n\tat com.databricks.backend.daemon.data.client.DbfsClient.send0(DbfsClient.scala:148)\n\tat com.databricks.backend.daemon.data.client.DbfsClient.sendIdempotent(DbfsClient.scala:70)\n\tat com.databricks.backend.daemon.dbutils.DBUtilsCore.createOrUpdateMount(DBUtilsCore.scala:1142)\n\tat com.databricks.backend.daemon.dbutils.DBUtilsCore.$anonfun$mount$1(DBUtilsCore.scala:1168)\n\tat com.databricks.logging.UsageLogging.$anonfun$recordOperation$1(UsageLogging.scala:527)\n\tat com.databricks.logging.UsageLogging.executeThunkAndCaptureResultTags$1(UsageLogging.scala:631)\n\tat com.databricks.logging.UsageLogging.$anonfun$recordOperationWithResultTags$4(UsageLogging.scala:651)\n\tat com.databricks.logging.AttributionContextTracing.$anonfun$withAttributionContext$1(AttributionContextTracing.scala:48)\n\tat com.databricks.logging.AttributionContext$.$anonfun$withValue$1(AttributionContext.scala:276)\n\tat scala.util.DynamicVariable.withValue(DynamicVariable.scala:62)\n\tat com.databricks.logging.AttributionContext$.withValue(AttributionContext.scala:272)\n\tat com.databricks.logging.AttributionContextTracing.withAttributionContext(AttributionContextTracing.scala:46)\n\tat com.databricks.logging.AttributionContextTracing.withAttributionContext$(AttributionContextTracing.scala:43)\n\tat com.databricks.backend.daemon.dbutils.FSUtils.withAttributionContext(DBUtilsCore.scala:74)\n\tat com.databricks.logging.AttributionContextTracing.withAttributionTags(AttributionContextTracing.scala:95)\n\tat com.databricks.logging.AttributionContextTracing.withAttributionTags$(AttributionContextTracing.scala:76)\n\tat com.databricks.backend.daemon.dbutils.FSUtils.withAttributionTags(DBUtilsCore.scala:74)\n\tat com.databricks.logging.UsageLogging.recordOperationWithResultTags(UsageLogging.scala:626)\n\tat com.databricks.logging.UsageLogging.recordOperationWithResultTags$(UsageLogging.scala:536)\n\tat com.databricks.backend.daemon.dbutils.FSUtils.recordOperationWithResultTags(DBUtilsCore.scala:74)\n\tat com.databricks.logging.UsageLogging.recordOperation(UsageLogging.scala:528)\n\tat com.databricks.logging.UsageLogging.recordOperation$(UsageLogging.scala:496)\n\tat com.databricks.backend.daemon.dbutils.FSUtils.recordOperation(DBUtilsCore.scala:74)\n\tat com.databricks.backend.daemon.dbutils.FSUtils.recordDbutilsFsOp(DBUtilsCore.scala:138)\n\tat com.databricks.backend.daemon.dbutils.DBUtilsCore.mount(DBUtilsCore.scala:1162)\n\tat sun.reflect.NativeMethodAccessorImpl.invoke0(Native Method)\n\tat sun.reflect.NativeMethodAccessorImpl.invoke(NativeMethodAccessorImpl.java:62)\n\tat sun.reflect.DelegatingMethodAccessorImpl.invoke(DelegatingMethodAccessorImpl.java:43)\n\tat java.lang.reflect.Method.invoke(Method.java:498)\n\tat py4j.reflection.MethodInvoker.invoke(MethodInvoker.java:244)\n\tat py4j.reflection.ReflectionEngine.invoke(ReflectionEngine.java:397)\n\tat py4j.Gateway.invoke(Gateway.java:306)\n\tat py4j.commands.AbstractCommand.invokeMethod(AbstractCommand.java:132)\n\tat py4j.commands.CallCommand.execute(CallCommand.java:79)\n\tat py4j.ClientServerConnection.waitForCommands(ClientServerConnection.java:199)\n\tat py4j.ClientServerConnection.run(ClientServerConnection.java:119)\n\tat java.lang.Thread.run(Thread.java:750)\nCaused by: java.lang.IllegalArgumentException: requirement failed: Directory already mounted: /mnt/new_olympic_project\n\tat scala.Predef$.require(Predef.scala:281)\n\tat com.databricks.backend.daemon.data.server.DefaultMetadataManager.$anonfun$insertMount$1(MetadataManager.scala:800)\n\tat com.databricks.backend.daemon.data.server.DefaultMetadataManager.$anonfun$modifyAndVerify$2(MetadataManager.scala:1182)\n\tat scala.runtime.java8.JFunction0$mcV$sp.apply(JFunction0$mcV$sp.java:23)\n\tat com.databricks.backend.daemon.data.server.DefaultMetadataManager.withRetries(MetadataManager.scala:955)\n\tat com.databricks.backend.daemon.data.server.DefaultMetadataManager.modifyAndVerify(MetadataManager.scala:1171)\n\tat com.databricks.backend.daemon.data.server.DefaultMetadataManager.insertMount(MetadataManager.scala:808)\n\tat com.databricks.backend.daemon.data.server.handler.MountHandler.receive(MountHandler.scala:128)\n\tat com.databricks.backend.daemon.data.server.session.SessionContext.$anonfun$queryHandlers$1(SessionContext.scala:54)\n\tat com.databricks.backend.daemon.data.server.session.SessionContext.$anonfun$queryHandlers$1$adapted(SessionContext.scala:53)\n\tat scala.collection.immutable.List.foreach(List.scala:431)\n\tat com.databricks.backend.daemon.data.server.session.SessionContext.queryHandlers(SessionContext.scala:53)\n\tat com.databricks.backend.daemon.data.server.DbfsServerBackend$$anonfun$receive$4.$anonfun$applyOrElse$10(DbfsServerBackend.scala:451)\n\tat com.databricks.logging.AttributionContextTracing.$anonfun$withAttributionContext$1(AttributionContextTracing.scala:48)\n\tat com.databricks.logging.AttributionContext$.$anonfun$withValue$1(AttributionContext.scala:271)\n\tat scala.util.DynamicVariable.withValue(DynamicVariable.scala:62)\n\tat com.databricks.logging.AttributionContext$.withValue(AttributionContext.scala:267)\n\tat com.databricks.logging.AttributionContextTracing.withAttributionContext(AttributionContextTracing.scala:46)\n\tat com.databricks.logging.AttributionContextTracing.withAttributionContext$(AttributionContextTracing.scala:43)\n\tat com.databricks.rpc.ServerBackend.withAttributionContext(ServerBackend.scala:22)\n\tat com.databricks.logging.AttributionContextTracing.withAttributionTags(AttributionContextTracing.scala:95)\n\tat com.databricks.logging.AttributionContextTracing.withAttributionTags$(AttributionContextTracing.scala:76)\n\tat com.databricks.rpc.ServerBackend.withAttributionTags(ServerBackend.scala:22)\n\tat com.databricks.backend.daemon.data.server.DbfsServerBackend$$anonfun$receive$4.applyOrElse(DbfsServerBackend.scala:451)\n\tat com.databricks.backend.daemon.data.server.DbfsServerBackend$$anonfun$receive$4.applyOrElse(DbfsServerBackend.scala:344)\n\tat com.databricks.rpc.ServerBackend.$anonfun$internalReceive0$2(ServerBackend.scala:174)\n\tat com.databricks.rpc.ServerBackend$$anonfun$commonReceive$1.applyOrElse(ServerBackend.scala:200)\n\tat com.databricks.rpc.ServerBackend$$anonfun$commonReceive$1.applyOrElse(ServerBackend.scala:200)\n\tat com.databricks.rpc.ServerBackend.internalReceive0(ServerBackend.scala:171)\n\tat com.databricks.rpc.ServerBackend.$anonfun$internalReceive$1(ServerBackend.scala:147)\n\tat com.databricks.logging.UsageLogging.$anonfun$recordOperation$1(UsageLogging.scala:508)\n\tat com.databricks.logging.UsageLogging.executeThunkAndCaptureResultTags$1(UsageLogging.scala:613)\n\tat com.databricks.logging.UsageLogging.$anonfun$recordOperationWithResultTags$4(UsageLogging.scala:636)\n\tat com.databricks.logging.AttributionContextTracing.$anonfun$withAttributionContext$1(AttributionContextTracing.scala:48)\n\tat com.databricks.logging.AttributionContext$.$anonfun$withValue$1(AttributionContext.scala:271)\n\tat scala.util.DynamicVariable.withValue(DynamicVariable.scala:62)\n\tat com.databricks.logging.AttributionContext$.withValue(AttributionContext.scala:267)\n\tat com.databricks.logging.AttributionContextTracing.withAttributionContext(AttributionContextTracing.scala:46)\n\tat com.databricks.logging.AttributionContextTracing.withAttributionContext$(AttributionContextTracing.scala:43)\n\tat com.databricks.rpc.ServerBackend.withAttributionContext(ServerBackend.scala:22)\n\tat com.databricks.logging.AttributionContextTracing.withAttributionTags(AttributionContextTracing.scala:95)\n\tat com.databricks.logging.AttributionContextTracing.withAttributionTags$(AttributionContextTracing.scala:76)\n\tat com.databricks.rpc.ServerBackend.withAttributionTags(ServerBackend.scala:22)\n\tat com.databricks.logging.UsageLogging.recordOperationWithResultTags(UsageLogging.scala:608)\n\tat com.databricks.logging.UsageLogging.recordOperationWithResultTags$(UsageLogging.scala:517)\n\tat com.databricks.rpc.ServerBackend.recordOperationWithResultTags(ServerBackend.scala:22)\n\tat com.databricks.logging.UsageLogging.recordOperation(UsageLogging.scala:509)\n\tat com.databricks.logging.UsageLogging.recordOperation$(UsageLogging.scala:475)\n\tat com.databricks.rpc.ServerBackend.recordOperation(ServerBackend.scala:22)\n\tat com.databricks.rpc.ServerBackend.internalReceive(ServerBackend.scala:146)\n\tat com.databricks.rpc.JettyServer$RequestManager.handleRPC(JettyServer.scala:1032)\n\tat com.databricks.rpc.JettyServer$RequestManager.handleRequestAndRespond(JettyServer.scala:952)\n\tat com.databricks.rpc.JettyServer$RequestManager.$anonfun$handleHttp$6(JettyServer.scala:552)\n\tat com.databricks.rpc.JettyServer$RequestManager.$anonfun$handleHttp$6$adapted(JettyServer.scala:521)\n\tat com.databricks.logging.activity.ActivityContextFactory$.$anonfun$withActivityInternal$8(ActivityContextFactory.scala:681)\n\tat com.databricks.logging.AttributionContextTracing.$anonfun$withAttributionContext$1(AttributionContextTracing.scala:48)\n\tat com.databricks.logging.AttributionContext$.$anonfun$withValue$1(AttributionContext.scala:271)\n\tat scala.util.DynamicVariable.withValue(DynamicVariable.scala:62)\n\tat com.databricks.logging.AttributionContext$.withValue(AttributionContext.scala:267)\n\tat com.databricks.logging.AttributionContextTracing.withAttributionContext(AttributionContextTracing.scala:46)\n\tat com.databricks.logging.AttributionContextTracing.withAttributionContext$(AttributionContextTracing.scala:43)\n\tat com.databricks.logging.activity.ActivityContextFactory$.withAttributionContext(ActivityContextFactory.scala:47)\n\tat com.databricks.logging.activity.ActivityContextFactory$.$anonfun$withActivityInternal$2(ActivityContextFactory.scala:681)\n\tat com.databricks.context.integrity.IntegrityCheckContext$ThreadLocalStorage$.withValue(IntegrityCheckContext.scala:73)\n\tat com.databricks.logging.activity.ActivityContextFactory$.withActivityInternal(ActivityContextFactory.scala:652)\n\tat com.databricks.logging.activity.ActivityContextFactory$.withActivityInternal(ActivityContextFactory.scala:634)\n\tat com.databricks.logging.activity.ActivityContextFactory$.withServiceRequestActivity(ActivityContextFactory.scala:253)\n\tat com.databricks.rpc.JettyServer$RequestManager.handleHttp(JettyServer.scala:521)\n\tat com.databricks.rpc.JettyServer$RequestManager.doPost(JettyServer.scala:411)\n\tat javax.servlet.http.HttpServlet.service(HttpServlet.java:665)\n\tat com.databricks.rpc.HttpServletWithPatch.service(HttpServletWithPatch.scala:33)\n\tat javax.servlet.http.HttpServlet.service(HttpServlet.java:750)\n\tat org.eclipse.jetty.servlet.ServletHolder.handle(ServletHolder.java:799)\n\tat org.eclipse.jetty.servlet.ServletHandler.doHandle(ServletHandler.java:554)\n\tat org.eclipse.jetty.server.handler.ScopedHandler.nextScope(ScopedHandler.java:190)\n\tat org.eclipse.jetty.servlet.ServletHandler.doScope(ServletHandler.java:505)\n\tat org.eclipse.jetty.server.handler.ScopedHandler.handle(ScopedHandler.java:141)\n\tat org.eclipse.jetty.server.handler.HandlerWrapper.handle(HandlerWrapper.java:127)\n\tat org.eclipse.jetty.server.Server.handle(Server.java:516)\n\tat org.eclipse.jetty.server.HttpChannel.lambda$handle$1(HttpChannel.java:487)\n\tat org.eclipse.jetty.server.HttpChannel.dispatch(HttpChannel.java:732)\n\tat org.eclipse.jetty.server.HttpChannel.handle(HttpChannel.java:479)\n\tat org.eclipse.jetty.server.HttpConnection.onFillable(HttpConnection.java:277)\n\tat org.eclipse.jetty.io.AbstractConnection$ReadCallback.succeeded(AbstractConnection.java:311)\n\tat org.eclipse.jetty.io.FillInterest.fillable(FillInterest.java:105)\n\tat org.eclipse.jetty.io.ChannelEndPoint$1.run(ChannelEndPoint.java:104)\n\tat org.eclipse.jetty.util.thread.strategy.EatWhatYouKill.runTask(EatWhatYouKill.java:338)\n\tat org.eclipse.jetty.util.thread.strategy.EatWhatYouKill.doProduce(EatWhatYouKill.java:315)\n\tat org.eclipse.jetty.util.thread.strategy.EatWhatYouKill.tryProduce(EatWhatYouKill.java:173)\n\tat org.eclipse.jetty.util.thread.strategy.EatWhatYouKill.run(EatWhatYouKill.java:131)\n\tat org.eclipse.jetty.util.thread.ReservedThreadExecutor$ReservedThread.run(ReservedThreadExecutor.java:409)\n\tat com.databricks.rpc.InstrumentedQueuedThreadPool$$anon$1.$anonfun$run$2(InstrumentedQueuedThreadPool.scala:110)\n\tat scala.runtime.java8.JFunction0$mcV$sp.apply(JFunction0$mcV$sp.java:23)\n\tat com.databricks.logging.AttributionContextTracing.$anonfun$withAttributionContext$1(AttributionContextTracing.scala:48)\n\tat com.databricks.logging.AttributionContext$.$anonfun$withValue$1(AttributionContext.scala:271)\n\tat scala.util.DynamicVariable.withValue(DynamicVariable.scala:62)\n\tat com.databricks.logging.AttributionContext$.withValue(AttributionContext.scala:267)\n\tat com.databricks.logging.AttributionContextTracing.withAttributionContext(AttributionContextTracing.scala:46)\n\tat com.databricks.logging.AttributionContextTracing.withAttributionContext$(AttributionContextTracing.scala:43)\n\tat com.databricks.rpc.InstrumentedQueuedThreadPool.withAttributionContext(InstrumentedQueuedThreadPool.scala:45)\n\tat com.databricks.rpc.InstrumentedQueuedThreadPool$$anon$1.$anonfun$run$1(InstrumentedQueuedThreadPool.scala:110)\n\tat scala.runtime.java8.JFunction0$mcV$sp.apply(JFunction0$mcV$sp.java:23)\n\tat com.databricks.instrumentation.QueuedThreadPoolInstrumenter.trackActiveThreads(QueuedThreadPoolInstrumenter.scala:126)\n\tat com.databricks.instrumentation.QueuedThreadPoolInstrumenter.trackActiveThreads$(QueuedThreadPoolInstrumenter.scala:123)\n\tat com.databricks.rpc.InstrumentedQueuedThreadPool.trackActiveThreads(InstrumentedQueuedThreadPool.scala:45)\n\tat com.databricks.rpc.InstrumentedQueuedThreadPool$$anon$1.run(InstrumentedQueuedThreadPool.scala:92)\n\tat org.eclipse.jetty.util.thread.QueuedThreadPool.runJob(QueuedThreadPool.java:883)\n\tat org.eclipse.jetty.util.thread.QueuedThreadPool$Runner.run(QueuedThreadPool.java:1034)\n\tat java.lang.Thread.run(Thread.java:840)\n"
       ],
       "type": "baseError"
      }
     },
     "output_type": "display_data"
    }
   ],
   "source": [
    "# dbutils.fs.mount(\n",
    "#     source='wasbs://tokyo-olympic-data@olympicproject2021adls.blob.core.windows.net',\n",
    "#     mount_point='/mnt/new_olympic_project',\n",
    "#     extra_configs={\n",
    "#         'fs.azure.sas.tokyo-olympic-data.olympicproject2021adls.blob.core.windows.net': ''\n",
    "#     }\n",
    "# )"
   ]
  },
  {
   "cell_type": "code",
   "execution_count": 0,
   "metadata": {
    "application/vnd.databricks.v1+cell": {
     "cellMetadata": {
      "byteLimit": 2048000,
      "rowLimit": 10000
     },
     "inputWidgets": {},
     "nuid": "226cc3ee-cd5c-479c-8536-176c31ebe106",
     "showTitle": false,
     "tableResultSettingsMap": {},
     "title": ""
    }
   },
   "outputs": [],
   "source": [
    "# # dbutils.fs.mount( source = 'wasbs://tokyo-olympic-data@olympicproject2021adls.blob.core.windows.net', \n",
    "#                  mount_point= '/mnt/olympicProject', extra_configs ={''})"
   ]
  },
  {
   "cell_type": "code",
   "execution_count": 0,
   "metadata": {
    "application/vnd.databricks.v1+cell": {
     "cellMetadata": {
      "byteLimit": 2048000,
      "rowLimit": 10000
     },
     "inputWidgets": {},
     "nuid": "832f928b-65af-48fb-a040-d690876bf574",
     "showTitle": false,
     "tableResultSettingsMap": {},
     "title": ""
    }
   },
   "outputs": [
    {
     "output_type": "display_data",
     "data": {
      "text/html": [
       "<style scoped>\n",
       "  .table-result-container {\n",
       "    max-height: 300px;\n",
       "    overflow: auto;\n",
       "  }\n",
       "  table, th, td {\n",
       "    border: 1px solid black;\n",
       "    border-collapse: collapse;\n",
       "  }\n",
       "  th, td {\n",
       "    padding: 5px;\n",
       "  }\n",
       "  th {\n",
       "    text-align: left;\n",
       "  }\n",
       "</style><div class='table-result-container'><table class='table-result'><thead style='background-color: white'><tr><th>path</th><th>name</th><th>size</th><th>modificationTime</th></tr></thead><tbody><tr><td>dbfs:/mnt/new_olympic_project/raw-data/Athletes.csv</td><td>Athletes.csv</td><td>418482</td><td>1732823197000</td></tr><tr><td>dbfs:/mnt/new_olympic_project/raw-data/Coaches.csv</td><td>Coaches.csv</td><td>16885</td><td>1732823196000</td></tr><tr><td>dbfs:/mnt/new_olympic_project/raw-data/EntriesGender.csv</td><td>EntriesGender.csv</td><td>1123</td><td>1732823196000</td></tr><tr><td>dbfs:/mnt/new_olympic_project/raw-data/Medals.csv</td><td>Medals.csv</td><td>2410</td><td>1732823196000</td></tr><tr><td>dbfs:/mnt/new_olympic_project/raw-data/Teams.csv</td><td>Teams.csv</td><td>35262</td><td>1732823197000</td></tr></tbody></table></div>"
      ]
     },
     "metadata": {
      "application/vnd.databricks.v1+output": {
       "addedWidgets": {},
       "aggData": [],
       "aggError": "",
       "aggOverflow": false,
       "aggSchema": [],
       "aggSeriesLimitReached": false,
       "aggType": "",
       "arguments": {},
       "columnCustomDisplayInfos": {},
       "data": [
        [
         "dbfs:/mnt/new_olympic_project/raw-data/Athletes.csv",
         "Athletes.csv",
         418482,
         1732823197000
        ],
        [
         "dbfs:/mnt/new_olympic_project/raw-data/Coaches.csv",
         "Coaches.csv",
         16885,
         1732823196000
        ],
        [
         "dbfs:/mnt/new_olympic_project/raw-data/EntriesGender.csv",
         "EntriesGender.csv",
         1123,
         1732823196000
        ],
        [
         "dbfs:/mnt/new_olympic_project/raw-data/Medals.csv",
         "Medals.csv",
         2410,
         1732823196000
        ],
        [
         "dbfs:/mnt/new_olympic_project/raw-data/Teams.csv",
         "Teams.csv",
         35262,
         1732823197000
        ]
       ],
       "datasetInfos": [],
       "dbfsResultPath": null,
       "isJsonSchema": true,
       "metadata": {
        "isDbfsCommandResult": false
       },
       "overflow": false,
       "plotOptions": {
        "customPlotOptions": {},
        "displayType": "table",
        "pivotAggregation": null,
        "pivotColumns": null,
        "xColumns": null,
        "yColumns": null
       },
       "removedWidgets": [],
       "schema": [
        {
         "metadata": "{}",
         "name": "path",
         "type": "\"string\""
        },
        {
         "metadata": "{}",
         "name": "name",
         "type": "\"string\""
        },
        {
         "metadata": "{}",
         "name": "size",
         "type": "\"long\""
        },
        {
         "metadata": "{}",
         "name": "modificationTime",
         "type": "\"long\""
        }
       ],
       "type": "table"
      }
     },
     "output_type": "display_data"
    }
   ],
   "source": [
    "%fs\n",
    "ls dbfs:/mnt/new_olympic_project/raw-data/"
   ]
  },
  {
   "cell_type": "code",
   "execution_count": 0,
   "metadata": {
    "application/vnd.databricks.v1+cell": {
     "cellMetadata": {
      "byteLimit": 2048000,
      "implicitDf": true,
      "rowLimit": 10000
     },
     "inputWidgets": {},
     "nuid": "41d284ae-3601-4caa-a984-b77fcb8323f0",
     "showTitle": false,
     "tableResultSettingsMap": {},
     "title": ""
    }
   },
   "outputs": [
    {
     "output_type": "display_data",
     "data": {
      "text/html": [
       "<style scoped>\n",
       "  .table-result-container {\n",
       "    max-height: 300px;\n",
       "    overflow: auto;\n",
       "  }\n",
       "  table, th, td {\n",
       "    border: 1px solid black;\n",
       "    border-collapse: collapse;\n",
       "  }\n",
       "  th, td {\n",
       "    padding: 5px;\n",
       "  }\n",
       "  th {\n",
       "    text-align: left;\n",
       "  }\n",
       "</style><div class='table-result-container'><table class='table-result'><thead style='background-color: white'><tr><th>namespace</th><th>viewName</th><th>isTemporary</th><th>isMaterialized</th></tr></thead><tbody></tbody></table></div>"
      ]
     },
     "metadata": {
      "application/vnd.databricks.v1+output": {
       "addedWidgets": {},
       "aggData": [],
       "aggError": "",
       "aggOverflow": false,
       "aggSchema": [],
       "aggSeriesLimitReached": false,
       "aggType": "",
       "arguments": {},
       "columnCustomDisplayInfos": {},
       "data": [],
       "datasetInfos": [],
       "dbfsResultPath": null,
       "isJsonSchema": true,
       "metadata": {
        "createTempViewForImplicitDf": true,
        "dataframeName": "_sqldf",
        "executionCount": 2
       },
       "overflow": false,
       "plotOptions": {
        "customPlotOptions": {},
        "displayType": "table",
        "pivotAggregation": null,
        "pivotColumns": null,
        "xColumns": null,
        "yColumns": null
       },
       "removedWidgets": [],
       "schema": [
        {
         "metadata": "{}",
         "name": "namespace",
         "type": "\"string\""
        },
        {
         "metadata": "{}",
         "name": "viewName",
         "type": "\"string\""
        },
        {
         "metadata": "{}",
         "name": "isTemporary",
         "type": "\"boolean\""
        },
        {
         "metadata": "{}",
         "name": "isMaterialized",
         "type": "\"boolean\""
        }
       ],
       "type": "table"
      }
     },
     "output_type": "display_data"
    }
   ],
   "source": [
    "%sql\n",
    "show views"
   ]
  },
  {
   "cell_type": "code",
   "execution_count": 0,
   "metadata": {
    "application/vnd.databricks.v1+cell": {
     "cellMetadata": {
      "byteLimit": 2048000,
      "rowLimit": 10000
     },
     "inputWidgets": {},
     "nuid": "3b7513cb-5812-4560-b092-a8d23e55dde2",
     "showTitle": false,
     "tableResultSettingsMap": {},
     "title": ""
    }
   },
   "outputs": [
    {
     "output_type": "execute_result",
     "data": {
      "text/plain": [
       "[MountInfo(mountPoint='/databricks-datasets', source='databricks-datasets', encryptionType=''),\n",
       " MountInfo(mountPoint='/Volumes', source='UnityCatalogVolumes', encryptionType=''),\n",
       " MountInfo(mountPoint='/databricks/mlflow-tracking', source='databricks/mlflow-tracking', encryptionType=''),\n",
       " MountInfo(mountPoint='/databricks-results', source='databricks-results', encryptionType=''),\n",
       " MountInfo(mountPoint='/databricks/mlflow-registry', source='databricks/mlflow-registry', encryptionType=''),\n",
       " MountInfo(mountPoint='/mnt/new_olympic_project', source='wasbs://tokyo-olympic-data@olympicproject2021adls.blob.core.windows.net', encryptionType=''),\n",
       " MountInfo(mountPoint='/Volume', source='DbfsReserved', encryptionType=''),\n",
       " MountInfo(mountPoint='/volumes', source='DbfsReserved', encryptionType=''),\n",
       " MountInfo(mountPoint='/mnt/new', source='wasbs://tokyo-olympic-data@olympicproject2021adls.blob.core.windows.net', encryptionType=''),\n",
       " MountInfo(mountPoint='/', source='DatabricksRoot', encryptionType=''),\n",
       " MountInfo(mountPoint='/volume', source='DbfsReserved', encryptionType='')]"
      ]
     },
     "execution_count": 9,
     "metadata": {},
     "output_type": "execute_result"
    }
   ],
   "source": [
    "dbutils.fs.mounts()"
   ]
  },
  {
   "cell_type": "code",
   "execution_count": 0,
   "metadata": {
    "application/vnd.databricks.v1+cell": {
     "cellMetadata": {
      "byteLimit": 2048000,
      "rowLimit": 10000
     },
     "inputWidgets": {},
     "nuid": "dbc2dd88-0882-43e8-97f5-07859eba270c",
     "showTitle": false,
     "tableResultSettingsMap": {},
     "title": ""
    }
   },
   "outputs": [
    {
     "output_type": "display_data",
     "data": {
      "text/html": [
       "<style scoped>\n",
       "  .table-result-container {\n",
       "    max-height: 300px;\n",
       "    overflow: auto;\n",
       "  }\n",
       "  table, th, td {\n",
       "    border: 1px solid black;\n",
       "    border-collapse: collapse;\n",
       "  }\n",
       "  th, td {\n",
       "    padding: 5px;\n",
       "  }\n",
       "  th {\n",
       "    text-align: left;\n",
       "  }\n",
       "</style><div class='table-result-container'><table class='table-result'><thead style='background-color: white'><tr><th>path</th><th>name</th><th>size</th><th>modificationTime</th></tr></thead><tbody><tr><td>dbfs:/mnt/new_olympic_project/raw-data/Athletes.csv</td><td>Athletes.csv</td><td>418482</td><td>1732823197000</td></tr><tr><td>dbfs:/mnt/new_olympic_project/raw-data/Coaches.csv</td><td>Coaches.csv</td><td>16885</td><td>1732823196000</td></tr><tr><td>dbfs:/mnt/new_olympic_project/raw-data/EntriesGender.csv</td><td>EntriesGender.csv</td><td>1123</td><td>1732823196000</td></tr><tr><td>dbfs:/mnt/new_olympic_project/raw-data/Medals.csv</td><td>Medals.csv</td><td>2410</td><td>1732823196000</td></tr><tr><td>dbfs:/mnt/new_olympic_project/raw-data/Teams.csv</td><td>Teams.csv</td><td>35262</td><td>1732823197000</td></tr></tbody></table></div>"
      ]
     },
     "metadata": {
      "application/vnd.databricks.v1+output": {
       "addedWidgets": {},
       "aggData": [],
       "aggError": "",
       "aggOverflow": false,
       "aggSchema": [],
       "aggSeriesLimitReached": false,
       "aggType": "",
       "arguments": {},
       "columnCustomDisplayInfos": {},
       "data": [
        [
         "dbfs:/mnt/new_olympic_project/raw-data/Athletes.csv",
         "Athletes.csv",
         418482,
         1732823197000
        ],
        [
         "dbfs:/mnt/new_olympic_project/raw-data/Coaches.csv",
         "Coaches.csv",
         16885,
         1732823196000
        ],
        [
         "dbfs:/mnt/new_olympic_project/raw-data/EntriesGender.csv",
         "EntriesGender.csv",
         1123,
         1732823196000
        ],
        [
         "dbfs:/mnt/new_olympic_project/raw-data/Medals.csv",
         "Medals.csv",
         2410,
         1732823196000
        ],
        [
         "dbfs:/mnt/new_olympic_project/raw-data/Teams.csv",
         "Teams.csv",
         35262,
         1732823197000
        ]
       ],
       "datasetInfos": [],
       "dbfsResultPath": null,
       "isJsonSchema": true,
       "metadata": {
        "isDbfsCommandResult": false
       },
       "overflow": false,
       "plotOptions": {
        "customPlotOptions": {},
        "displayType": "table",
        "pivotAggregation": null,
        "pivotColumns": null,
        "xColumns": null,
        "yColumns": null
       },
       "removedWidgets": [],
       "schema": [
        {
         "metadata": "{}",
         "name": "path",
         "type": "\"string\""
        },
        {
         "metadata": "{}",
         "name": "name",
         "type": "\"string\""
        },
        {
         "metadata": "{}",
         "name": "size",
         "type": "\"long\""
        },
        {
         "metadata": "{}",
         "name": "modificationTime",
         "type": "\"long\""
        }
       ],
       "type": "table"
      }
     },
     "output_type": "display_data"
    }
   ],
   "source": [
    "%fs\n",
    "ls dbfs:/mnt/new_olympic_project/raw-data/"
   ]
  },
  {
   "cell_type": "code",
   "execution_count": 0,
   "metadata": {
    "application/vnd.databricks.v1+cell": {
     "cellMetadata": {
      "byteLimit": 2048000,
      "rowLimit": 10000
     },
     "inputWidgets": {},
     "nuid": "dc4bee2a-e524-4080-812c-865a564e5e98",
     "showTitle": false,
     "tableResultSettingsMap": {},
     "title": ""
    }
   },
   "outputs": [],
   "source": [
    "df1=spark.read.csv('dbfs:/mnt/new_olympic_project/raw-data/Athletes.csv',header = True)\n",
    "df1.display()"
   ]
  },
  {
   "cell_type": "code",
   "execution_count": 0,
   "metadata": {
    "application/vnd.databricks.v1+cell": {
     "cellMetadata": {
      "byteLimit": 2048000,
      "rowLimit": 10000
     },
     "inputWidgets": {},
     "nuid": "a00f8225-533e-419e-88d7-8c56aef49777",
     "showTitle": false,
     "tableResultSettingsMap": {},
     "title": ""
    }
   },
   "outputs": [
    {
     "output_type": "stream",
     "name": "stdout",
     "output_type": "stream",
     "text": [
      "root\n |-- Name: string (nullable = true)\n |-- NOC: string (nullable = true)\n |-- Discipline: string (nullable = true)\n\n"
     ]
    }
   ],
   "source": [
    "df1.printSchema()\n",
    "#looking at the answer, it seems column type i correct"
   ]
  },
  {
   "cell_type": "code",
   "execution_count": 0,
   "metadata": {
    "application/vnd.databricks.v1+cell": {
     "cellMetadata": {
      "byteLimit": 2048000,
      "rowLimit": 10000
     },
     "inputWidgets": {},
     "nuid": "a42140d5-c0b9-458c-92e0-3f7b7fdb6f50",
     "showTitle": false,
     "tableResultSettingsMap": {},
     "title": ""
    }
   },
   "outputs": [
    {
     "output_type": "display_data",
     "data": {
      "text/html": [
       "<style scoped>\n",
       "  .table-result-container {\n",
       "    max-height: 300px;\n",
       "    overflow: auto;\n",
       "  }\n",
       "  table, th, td {\n",
       "    border: 1px solid black;\n",
       "    border-collapse: collapse;\n",
       "  }\n",
       "  th, td {\n",
       "    padding: 5px;\n",
       "  }\n",
       "  th {\n",
       "    text-align: left;\n",
       "  }\n",
       "</style><div class='table-result-container'><table class='table-result'><thead style='background-color: white'><tr><th>Discipline</th><th>Female</th><th>Male</th><th>Total</th></tr></thead><tbody><tr><td>3x3 Basketball</td><td>32</td><td>32</td><td>64</td></tr><tr><td>Archery</td><td>64</td><td>64</td><td>128</td></tr><tr><td>Artistic Gymnastics</td><td>98</td><td>98</td><td>196</td></tr><tr><td>Artistic Swimming</td><td>105</td><td>0</td><td>105</td></tr><tr><td>Athletics</td><td>969</td><td>1072</td><td>2041</td></tr><tr><td>Badminton</td><td>86</td><td>87</td><td>173</td></tr><tr><td>Baseball/Softball</td><td>90</td><td>144</td><td>234</td></tr><tr><td>Basketball</td><td>144</td><td>144</td><td>288</td></tr><tr><td>Beach Volleyball</td><td>48</td><td>48</td><td>96</td></tr><tr><td>Boxing</td><td>102</td><td>187</td><td>289</td></tr><tr><td>Canoe Slalom</td><td>41</td><td>41</td><td>82</td></tr><tr><td>Canoe Sprint</td><td>123</td><td>126</td><td>249</td></tr><tr><td>Cycling BMX Freestyle</td><td>10</td><td>9</td><td>19</td></tr><tr><td>Cycling BMX Racing</td><td>24</td><td>24</td><td>48</td></tr><tr><td>Cycling Mountain Bike</td><td>38</td><td>38</td><td>76</td></tr><tr><td>Cycling Road</td><td>70</td><td>131</td><td>201</td></tr><tr><td>Cycling Track</td><td>90</td><td>99</td><td>189</td></tr><tr><td>Diving</td><td>72</td><td>71</td><td>143</td></tr><tr><td>Equestrian</td><td>73</td><td>125</td><td>198</td></tr><tr><td>Fencing</td><td>107</td><td>108</td><td>215</td></tr><tr><td>Football</td><td>264</td><td>344</td><td>608</td></tr><tr><td>Golf</td><td>60</td><td>60</td><td>120</td></tr><tr><td>Handball</td><td>168</td><td>168</td><td>336</td></tr><tr><td>Hockey</td><td>192</td><td>192</td><td>384</td></tr><tr><td>Judo</td><td>192</td><td>201</td><td>393</td></tr><tr><td>Karate</td><td>40</td><td>42</td><td>82</td></tr><tr><td>Marathon Swimming</td><td>25</td><td>25</td><td>50</td></tr><tr><td>Modern Pentathlon</td><td>36</td><td>36</td><td>72</td></tr><tr><td>Rhythmic Gymnastics</td><td>96</td><td>0</td><td>96</td></tr><tr><td>Rowing</td><td>257</td><td>265</td><td>522</td></tr><tr><td>Rugby Sevens</td><td>146</td><td>151</td><td>297</td></tr><tr><td>Sailing</td><td>175</td><td>175</td><td>350</td></tr><tr><td>Shooting</td><td>178</td><td>178</td><td>356</td></tr><tr><td>Skateboarding</td><td>40</td><td>40</td><td>80</td></tr><tr><td>Sport Climbing</td><td>20</td><td>20</td><td>40</td></tr><tr><td>Surfing</td><td>20</td><td>20</td><td>40</td></tr><tr><td>Swimming</td><td>361</td><td>418</td><td>779</td></tr><tr><td>Table Tennis</td><td>86</td><td>86</td><td>172</td></tr><tr><td>Taekwondo</td><td>65</td><td>65</td><td>130</td></tr><tr><td>Tennis</td><td>94</td><td>97</td><td>191</td></tr><tr><td>Trampoline Gymnastics</td><td>16</td><td>16</td><td>32</td></tr><tr><td>Triathlon</td><td>55</td><td>55</td><td>110</td></tr><tr><td>Volleyball</td><td>144</td><td>144</td><td>288</td></tr><tr><td>Water Polo</td><td>122</td><td>146</td><td>268</td></tr><tr><td>Weightlifting</td><td>98</td><td>99</td><td>197</td></tr><tr><td>Wrestling</td><td>96</td><td>193</td><td>289</td></tr></tbody></table></div>"
      ]
     },
     "metadata": {
      "application/vnd.databricks.v1+output": {
       "addedWidgets": {},
       "aggData": [],
       "aggError": "",
       "aggOverflow": false,
       "aggSchema": [],
       "aggSeriesLimitReached": false,
       "aggType": "",
       "arguments": {},
       "columnCustomDisplayInfos": {},
       "data": [
        [
         "3x3 Basketball",
         "32",
         "32",
         "64"
        ],
        [
         "Archery",
         "64",
         "64",
         "128"
        ],
        [
         "Artistic Gymnastics",
         "98",
         "98",
         "196"
        ],
        [
         "Artistic Swimming",
         "105",
         "0",
         "105"
        ],
        [
         "Athletics",
         "969",
         "1072",
         "2041"
        ],
        [
         "Badminton",
         "86",
         "87",
         "173"
        ],
        [
         "Baseball/Softball",
         "90",
         "144",
         "234"
        ],
        [
         "Basketball",
         "144",
         "144",
         "288"
        ],
        [
         "Beach Volleyball",
         "48",
         "48",
         "96"
        ],
        [
         "Boxing",
         "102",
         "187",
         "289"
        ],
        [
         "Canoe Slalom",
         "41",
         "41",
         "82"
        ],
        [
         "Canoe Sprint",
         "123",
         "126",
         "249"
        ],
        [
         "Cycling BMX Freestyle",
         "10",
         "9",
         "19"
        ],
        [
         "Cycling BMX Racing",
         "24",
         "24",
         "48"
        ],
        [
         "Cycling Mountain Bike",
         "38",
         "38",
         "76"
        ],
        [
         "Cycling Road",
         "70",
         "131",
         "201"
        ],
        [
         "Cycling Track",
         "90",
         "99",
         "189"
        ],
        [
         "Diving",
         "72",
         "71",
         "143"
        ],
        [
         "Equestrian",
         "73",
         "125",
         "198"
        ],
        [
         "Fencing",
         "107",
         "108",
         "215"
        ],
        [
         "Football",
         "264",
         "344",
         "608"
        ],
        [
         "Golf",
         "60",
         "60",
         "120"
        ],
        [
         "Handball",
         "168",
         "168",
         "336"
        ],
        [
         "Hockey",
         "192",
         "192",
         "384"
        ],
        [
         "Judo",
         "192",
         "201",
         "393"
        ],
        [
         "Karate",
         "40",
         "42",
         "82"
        ],
        [
         "Marathon Swimming",
         "25",
         "25",
         "50"
        ],
        [
         "Modern Pentathlon",
         "36",
         "36",
         "72"
        ],
        [
         "Rhythmic Gymnastics",
         "96",
         "0",
         "96"
        ],
        [
         "Rowing",
         "257",
         "265",
         "522"
        ],
        [
         "Rugby Sevens",
         "146",
         "151",
         "297"
        ],
        [
         "Sailing",
         "175",
         "175",
         "350"
        ],
        [
         "Shooting",
         "178",
         "178",
         "356"
        ],
        [
         "Skateboarding",
         "40",
         "40",
         "80"
        ],
        [
         "Sport Climbing",
         "20",
         "20",
         "40"
        ],
        [
         "Surfing",
         "20",
         "20",
         "40"
        ],
        [
         "Swimming",
         "361",
         "418",
         "779"
        ],
        [
         "Table Tennis",
         "86",
         "86",
         "172"
        ],
        [
         "Taekwondo",
         "65",
         "65",
         "130"
        ],
        [
         "Tennis",
         "94",
         "97",
         "191"
        ],
        [
         "Trampoline Gymnastics",
         "16",
         "16",
         "32"
        ],
        [
         "Triathlon",
         "55",
         "55",
         "110"
        ],
        [
         "Volleyball",
         "144",
         "144",
         "288"
        ],
        [
         "Water Polo",
         "122",
         "146",
         "268"
        ],
        [
         "Weightlifting",
         "98",
         "99",
         "197"
        ],
        [
         "Wrestling",
         "96",
         "193",
         "289"
        ]
       ],
       "datasetInfos": [],
       "dbfsResultPath": null,
       "isJsonSchema": true,
       "metadata": {},
       "overflow": false,
       "plotOptions": {
        "customPlotOptions": {},
        "displayType": "table",
        "pivotAggregation": null,
        "pivotColumns": null,
        "xColumns": null,
        "yColumns": null
       },
       "removedWidgets": [],
       "schema": [
        {
         "metadata": "{}",
         "name": "Discipline",
         "type": "\"string\""
        },
        {
         "metadata": "{}",
         "name": "Female",
         "type": "\"string\""
        },
        {
         "metadata": "{}",
         "name": "Male",
         "type": "\"string\""
        },
        {
         "metadata": "{}",
         "name": "Total",
         "type": "\"string\""
        }
       ],
       "type": "table"
      }
     },
     "output_type": "display_data"
    },
    {
     "output_type": "stream",
     "name": "stdout",
     "output_type": "stream",
     "text": [
      "root\n |-- Discipline: string (nullable = true)\n |-- Female: string (nullable = true)\n |-- Male: string (nullable = true)\n |-- Total: string (nullable = true)\n\n"
     ]
    }
   ],
   "source": [
    "EntriesGender=spark.read.csv('dbfs:/mnt/new_olympic_project/raw-data/EntriesGender.csv',header = True)\n",
    "EntriesGender.display()\n",
    "\n",
    "EntriesGender.printSchema()"
   ]
  },
  {
   "cell_type": "code",
   "execution_count": 0,
   "metadata": {
    "application/vnd.databricks.v1+cell": {
     "cellMetadata": {
      "byteLimit": 2048000,
      "rowLimit": 10000
     },
     "inputWidgets": {},
     "nuid": "6c60c5a8-5162-4abc-9e65-e825abf28175",
     "showTitle": false,
     "tableResultSettingsMap": {},
     "title": ""
    }
   },
   "outputs": [
    {
     "output_type": "stream",
     "name": "stdout",
     "output_type": "stream",
     "text": [
      "root\n |-- Discipline: string (nullable = true)\n |-- Female: integer (nullable = true)\n |-- Male: integer (nullable = true)\n |-- Total: integer (nullable = true)\n\n"
     ]
    }
   ],
   "source": [
    "from pyspark.sql.functions import col\n",
    "\n",
    "EntriesGender_formatted = EntriesGender.withColumn(\"Female\", col(\"Female\").cast(\"int\"))\\\n",
    "    .withColumn(\"Male\", col(\"Male\").cast(\"int\"))\\\n",
    "        .withColumn(\"Total\", col(\"Total\").cast(\"int\"))\n",
    "\n",
    "EntriesGender_formatted.printSchema()"
   ]
  },
  {
   "cell_type": "markdown",
   "metadata": {
    "application/vnd.databricks.v1+cell": {
     "cellMetadata": {},
     "inputWidgets": {},
     "nuid": "28cd36ed-499b-4884-a166-b64ad0c3bf39",
     "showTitle": false,
     "tableResultSettingsMap": {},
     "title": ""
    }
   },
   "source": [
    "## if you see here, column type has been changed to int. but you could also simply use inferschema to pivk the correct datatype. simply."
   ]
  },
  {
   "cell_type": "code",
   "execution_count": 0,
   "metadata": {
    "application/vnd.databricks.v1+cell": {
     "cellMetadata": {
      "byteLimit": 2048000,
      "rowLimit": 10000
     },
     "inputWidgets": {},
     "nuid": "a62b1480-c629-4959-9ba6-b02ae58507c3",
     "showTitle": false,
     "tableResultSettingsMap": {},
     "title": ""
    }
   },
   "outputs": [
    {
     "output_type": "display_data",
     "data": {
      "text/html": [
       "<style scoped>\n",
       "  .table-result-container {\n",
       "    max-height: 300px;\n",
       "    overflow: auto;\n",
       "  }\n",
       "  table, th, td {\n",
       "    border: 1px solid black;\n",
       "    border-collapse: collapse;\n",
       "  }\n",
       "  th, td {\n",
       "    padding: 5px;\n",
       "  }\n",
       "  th {\n",
       "    text-align: left;\n",
       "  }\n",
       "</style><div class='table-result-container'><table class='table-result'><thead style='background-color: white'><tr><th>path</th><th>name</th><th>size</th><th>modificationTime</th></tr></thead><tbody><tr><td>dbfs:/mnt/new_olympic_project/raw-data/Athletes.csv</td><td>Athletes.csv</td><td>418482</td><td>1732823197000</td></tr><tr><td>dbfs:/mnt/new_olympic_project/raw-data/Coaches.csv</td><td>Coaches.csv</td><td>16885</td><td>1732823196000</td></tr><tr><td>dbfs:/mnt/new_olympic_project/raw-data/EntriesGender.csv</td><td>EntriesGender.csv</td><td>1123</td><td>1732823196000</td></tr><tr><td>dbfs:/mnt/new_olympic_project/raw-data/Medals.csv</td><td>Medals.csv</td><td>2410</td><td>1732823196000</td></tr><tr><td>dbfs:/mnt/new_olympic_project/raw-data/Teams.csv</td><td>Teams.csv</td><td>35262</td><td>1732823197000</td></tr></tbody></table></div>"
      ]
     },
     "metadata": {
      "application/vnd.databricks.v1+output": {
       "addedWidgets": {},
       "aggData": [],
       "aggError": "",
       "aggOverflow": false,
       "aggSchema": [],
       "aggSeriesLimitReached": false,
       "aggType": "",
       "arguments": {},
       "columnCustomDisplayInfos": {},
       "data": [
        [
         "dbfs:/mnt/new_olympic_project/raw-data/Athletes.csv",
         "Athletes.csv",
         418482,
         1732823197000
        ],
        [
         "dbfs:/mnt/new_olympic_project/raw-data/Coaches.csv",
         "Coaches.csv",
         16885,
         1732823196000
        ],
        [
         "dbfs:/mnt/new_olympic_project/raw-data/EntriesGender.csv",
         "EntriesGender.csv",
         1123,
         1732823196000
        ],
        [
         "dbfs:/mnt/new_olympic_project/raw-data/Medals.csv",
         "Medals.csv",
         2410,
         1732823196000
        ],
        [
         "dbfs:/mnt/new_olympic_project/raw-data/Teams.csv",
         "Teams.csv",
         35262,
         1732823197000
        ]
       ],
       "datasetInfos": [],
       "dbfsResultPath": null,
       "isJsonSchema": true,
       "metadata": {
        "isDbfsCommandResult": false
       },
       "overflow": false,
       "plotOptions": {
        "customPlotOptions": {},
        "displayType": "table",
        "pivotAggregation": null,
        "pivotColumns": null,
        "xColumns": null,
        "yColumns": null
       },
       "removedWidgets": [],
       "schema": [
        {
         "metadata": "{}",
         "name": "path",
         "type": "\"string\""
        },
        {
         "metadata": "{}",
         "name": "name",
         "type": "\"string\""
        },
        {
         "metadata": "{}",
         "name": "size",
         "type": "\"long\""
        },
        {
         "metadata": "{}",
         "name": "modificationTime",
         "type": "\"long\""
        }
       ],
       "type": "table"
      }
     },
     "output_type": "display_data"
    }
   ],
   "source": [
    "%fs\n",
    "ls dbfs:/mnt/new_olympic_project/raw-data/"
   ]
  },
  {
   "cell_type": "code",
   "execution_count": 0,
   "metadata": {
    "application/vnd.databricks.v1+cell": {
     "cellMetadata": {
      "byteLimit": 2048000,
      "rowLimit": 10000
     },
     "inputWidgets": {},
     "nuid": "ce22f2ab-a91a-4ff4-ae54-bf6de03a6751",
     "showTitle": false,
     "tableResultSettingsMap": {},
     "title": ""
    }
   },
   "outputs": [],
   "source": [
    "#lets re-read the dfs\n",
    "\n",
    "Athletes=spark.read.csv('dbfs:/mnt/new_olympic_project/raw-data/Athletes.csv',header = True,inferSchema = True)\n",
    "Coaches=spark.read.csv('dbfs:/mnt/new_olympic_project/raw-data/Coaches.csv',header = True,inferSchema = True)\n",
    "EntriesGender=spark.read.csv('dbfs:/mnt/new_olympic_project/raw-data/EntriesGender.csv',header = True,inferSchema = True)\n",
    "Medals=spark.read.csv('dbfs:/mnt/new_olympic_project/raw-data/Medals.csv',header = True,inferSchema = True)\n",
    "Teams=spark.read.csv('dbfs:/mnt/new_olympic_project/raw-data/Teams.csv',header = True,inferSchema = True)\n",
    "\n",
    "\n"
   ]
  },
  {
   "cell_type": "code",
   "execution_count": 0,
   "metadata": {
    "application/vnd.databricks.v1+cell": {
     "cellMetadata": {
      "byteLimit": 2048000,
      "rowLimit": 10000
     },
     "inputWidgets": {},
     "nuid": "9095b93c-ae91-42c0-a929-bb9b27236d02",
     "showTitle": false,
     "tableResultSettingsMap": {},
     "title": ""
    }
   },
   "outputs": [
    {
     "output_type": "stream",
     "name": "stdout",
     "output_type": "stream",
     "text": [
      "root\n |-- Discipline: string (nullable = true)\n |-- Female: integer (nullable = true)\n |-- Male: integer (nullable = true)\n |-- Total: integer (nullable = true)\n\n"
     ]
    }
   ],
   "source": [
    "EntriesGender.printSchema()"
   ]
  },
  {
   "cell_type": "code",
   "execution_count": 0,
   "metadata": {
    "application/vnd.databricks.v1+cell": {
     "cellMetadata": {
      "byteLimit": 2048000,
      "rowLimit": 10000
     },
     "inputWidgets": {},
     "nuid": "0cc6678c-f3a5-43ab-a98f-8eee2cb3790c",
     "showTitle": false,
     "tableResultSettingsMap": {},
     "title": ""
    }
   },
   "outputs": [
    {
     "output_type": "display_data",
     "data": {
      "text/html": [
       "<style scoped>\n",
       "  .table-result-container {\n",
       "    max-height: 300px;\n",
       "    overflow: auto;\n",
       "  }\n",
       "  table, th, td {\n",
       "    border: 1px solid black;\n",
       "    border-collapse: collapse;\n",
       "  }\n",
       "  th, td {\n",
       "    padding: 5px;\n",
       "  }\n",
       "  th {\n",
       "    text-align: left;\n",
       "  }\n",
       "</style><div class='table-result-container'><table class='table-result'><thead style='background-color: white'><tr><th>Rank</th><th>Team/NOC</th><th>Gold</th><th>Silver</th><th>Bronze</th><th>Total</th><th>Rank by Total</th></tr></thead><tbody><tr><td>1</td><td>United States of America</td><td>39</td><td>41</td><td>33</td><td>113</td><td>1</td></tr><tr><td>2</td><td>People's Republic of China</td><td>38</td><td>32</td><td>18</td><td>88</td><td>2</td></tr><tr><td>3</td><td>Japan</td><td>27</td><td>14</td><td>17</td><td>58</td><td>5</td></tr><tr><td>4</td><td>Great Britain</td><td>22</td><td>21</td><td>22</td><td>65</td><td>4</td></tr><tr><td>5</td><td>ROC</td><td>20</td><td>28</td><td>23</td><td>71</td><td>3</td></tr><tr><td>6</td><td>Australia</td><td>17</td><td>7</td><td>22</td><td>46</td><td>6</td></tr><tr><td>7</td><td>Netherlands</td><td>10</td><td>12</td><td>14</td><td>36</td><td>9</td></tr><tr><td>8</td><td>France</td><td>10</td><td>12</td><td>11</td><td>33</td><td>10</td></tr><tr><td>9</td><td>Germany</td><td>10</td><td>11</td><td>16</td><td>37</td><td>8</td></tr><tr><td>10</td><td>Italy</td><td>10</td><td>10</td><td>20</td><td>40</td><td>7</td></tr><tr><td>11</td><td>Canada</td><td>7</td><td>6</td><td>11</td><td>24</td><td>11</td></tr><tr><td>12</td><td>Brazil</td><td>7</td><td>6</td><td>8</td><td>21</td><td>12</td></tr><tr><td>13</td><td>New Zealand</td><td>7</td><td>6</td><td>7</td><td>20</td><td>13</td></tr><tr><td>14</td><td>Cuba</td><td>7</td><td>3</td><td>5</td><td>15</td><td>18</td></tr><tr><td>15</td><td>Hungary</td><td>6</td><td>7</td><td>7</td><td>20</td><td>13</td></tr><tr><td>16</td><td>Republic of Korea</td><td>6</td><td>4</td><td>10</td><td>20</td><td>13</td></tr><tr><td>17</td><td>Poland</td><td>4</td><td>5</td><td>5</td><td>14</td><td>19</td></tr><tr><td>18</td><td>Czech Republic</td><td>4</td><td>4</td><td>3</td><td>11</td><td>23</td></tr><tr><td>19</td><td>Kenya</td><td>4</td><td>4</td><td>2</td><td>10</td><td>25</td></tr><tr><td>20</td><td>Norway</td><td>4</td><td>2</td><td>2</td><td>8</td><td>29</td></tr><tr><td>21</td><td>Jamaica</td><td>4</td><td>1</td><td>4</td><td>9</td><td>26</td></tr><tr><td>22</td><td>Spain</td><td>3</td><td>8</td><td>6</td><td>17</td><td>17</td></tr><tr><td>23</td><td>Sweden</td><td>3</td><td>6</td><td>0</td><td>9</td><td>26</td></tr><tr><td>24</td><td>Switzerland</td><td>3</td><td>4</td><td>6</td><td>13</td><td>20</td></tr><tr><td>25</td><td>Denmark</td><td>3</td><td>4</td><td>4</td><td>11</td><td>23</td></tr><tr><td>26</td><td>Croatia</td><td>3</td><td>3</td><td>2</td><td>8</td><td>29</td></tr><tr><td>27</td><td>Islamic Republic of Iran</td><td>3</td><td>2</td><td>2</td><td>7</td><td>33</td></tr><tr><td>28</td><td>Serbia</td><td>3</td><td>1</td><td>5</td><td>9</td><td>26</td></tr><tr><td>29</td><td>Belgium</td><td>3</td><td>1</td><td>3</td><td>7</td><td>33</td></tr><tr><td>30</td><td>Bulgaria</td><td>3</td><td>1</td><td>2</td><td>6</td><td>39</td></tr><tr><td>31</td><td>Slovenia</td><td>3</td><td>1</td><td>1</td><td>5</td><td>42</td></tr><tr><td>32</td><td>Uzbekistan</td><td>3</td><td>0</td><td>2</td><td>5</td><td>42</td></tr><tr><td>33</td><td>Georgia</td><td>2</td><td>5</td><td>1</td><td>8</td><td>29</td></tr><tr><td>34</td><td>Chinese Taipei</td><td>2</td><td>4</td><td>6</td><td>12</td><td>22</td></tr><tr><td>35</td><td>Turkey</td><td>2</td><td>2</td><td>9</td><td>13</td><td>20</td></tr><tr><td>36</td><td>Greece</td><td>2</td><td>1</td><td>1</td><td>4</td><td>47</td></tr><tr><td>36</td><td>Uganda</td><td>2</td><td>1</td><td>1</td><td>4</td><td>47</td></tr><tr><td>38</td><td>Ecuador</td><td>2</td><td>1</td><td>0</td><td>3</td><td>60</td></tr><tr><td>39</td><td>Ireland</td><td>2</td><td>0</td><td>2</td><td>4</td><td>47</td></tr><tr><td>39</td><td>Israel</td><td>2</td><td>0</td><td>2</td><td>4</td><td>47</td></tr><tr><td>41</td><td>Qatar</td><td>2</td><td>0</td><td>1</td><td>3</td><td>60</td></tr><tr><td>42</td><td>Bahamas</td><td>2</td><td>0</td><td>0</td><td>2</td><td>66</td></tr><tr><td>42</td><td>Kosovo</td><td>2</td><td>0</td><td>0</td><td>2</td><td>66</td></tr><tr><td>44</td><td>Ukraine</td><td>1</td><td>6</td><td>12</td><td>19</td><td>16</td></tr><tr><td>45</td><td>Belarus</td><td>1</td><td>3</td><td>3</td><td>7</td><td>33</td></tr><tr><td>46</td><td>Romania</td><td>1</td><td>3</td><td>0</td><td>4</td><td>47</td></tr><tr><td>46</td><td>Venezuela</td><td>1</td><td>3</td><td>0</td><td>4</td><td>47</td></tr><tr><td>48</td><td>India</td><td>1</td><td>2</td><td>4</td><td>7</td><td>33</td></tr><tr><td>49</td><td>Hong Kong, China</td><td>1</td><td>2</td><td>3</td><td>6</td><td>39</td></tr><tr><td>50</td><td>Philippines</td><td>1</td><td>2</td><td>1</td><td>4</td><td>47</td></tr><tr><td>50</td><td>Slovakia</td><td>1</td><td>2</td><td>1</td><td>4</td><td>47</td></tr><tr><td>52</td><td>South Africa</td><td>1</td><td>2</td><td>0</td><td>3</td><td>60</td></tr><tr><td>53</td><td>Austria</td><td>1</td><td>1</td><td>5</td><td>7</td><td>33</td></tr><tr><td>54</td><td>Egypt</td><td>1</td><td>1</td><td>4</td><td>6</td><td>39</td></tr><tr><td>55</td><td>Indonesia</td><td>1</td><td>1</td><td>3</td><td>5</td><td>42</td></tr><tr><td>56</td><td>Ethiopia</td><td>1</td><td>1</td><td>2</td><td>4</td><td>47</td></tr><tr><td>56</td><td>Portugal</td><td>1</td><td>1</td><td>2</td><td>4</td><td>47</td></tr><tr><td>58</td><td>Tunisia</td><td>1</td><td>1</td><td>0</td><td>2</td><td>66</td></tr><tr><td>59</td><td>Estonia</td><td>1</td><td>0</td><td>1</td><td>2</td><td>66</td></tr><tr><td>59</td><td>Fiji</td><td>1</td><td>0</td><td>1</td><td>2</td><td>66</td></tr><tr><td>59</td><td>Latvia</td><td>1</td><td>0</td><td>1</td><td>2</td><td>66</td></tr><tr><td>59</td><td>Thailand</td><td>1</td><td>0</td><td>1</td><td>2</td><td>66</td></tr><tr><td>63</td><td>Bermuda</td><td>1</td><td>0</td><td>0</td><td>1</td><td>77</td></tr><tr><td>63</td><td>Morocco</td><td>1</td><td>0</td><td>0</td><td>1</td><td>77</td></tr><tr><td>63</td><td>Puerto Rico</td><td>1</td><td>0</td><td>0</td><td>1</td><td>77</td></tr><tr><td>66</td><td>Colombia</td><td>0</td><td>4</td><td>1</td><td>5</td><td>42</td></tr><tr><td>67</td><td>Azerbaijan</td><td>0</td><td>3</td><td>4</td><td>7</td><td>33</td></tr><tr><td>68</td><td>Dominican Republic</td><td>0</td><td>3</td><td>2</td><td>5</td><td>42</td></tr><tr><td>69</td><td>Armenia</td><td>0</td><td>2</td><td>2</td><td>4</td><td>47</td></tr><tr><td>70</td><td>Kyrgyzstan</td><td>0</td><td>2</td><td>1</td><td>3</td><td>60</td></tr><tr><td>71</td><td>Mongolia</td><td>0</td><td>1</td><td>3</td><td>4</td><td>47</td></tr><tr><td>72</td><td>Argentina</td><td>0</td><td>1</td><td>2</td><td>3</td><td>60</td></tr><tr><td>72</td><td>San Marino</td><td>0</td><td>1</td><td>2</td><td>3</td><td>60</td></tr><tr><td>74</td><td>Jordan</td><td>0</td><td>1</td><td>1</td><td>2</td><td>66</td></tr><tr><td>74</td><td>Malaysia</td><td>0</td><td>1</td><td>1</td><td>2</td><td>66</td></tr><tr><td>74</td><td>Nigeria</td><td>0</td><td>1</td><td>1</td><td>2</td><td>66</td></tr><tr><td>77</td><td>Bahrain</td><td>0</td><td>1</td><td>0</td><td>1</td><td>77</td></tr><tr><td>77</td><td>Saudi Arabia</td><td>0</td><td>1</td><td>0</td><td>1</td><td>77</td></tr><tr><td>77</td><td>Lithuania</td><td>0</td><td>1</td><td>0</td><td>1</td><td>77</td></tr><tr><td>77</td><td>North Macedonia</td><td>0</td><td>1</td><td>0</td><td>1</td><td>77</td></tr><tr><td>77</td><td>Namibia</td><td>0</td><td>1</td><td>0</td><td>1</td><td>77</td></tr><tr><td>77</td><td>Turkmenistan</td><td>0</td><td>1</td><td>0</td><td>1</td><td>77</td></tr><tr><td>83</td><td>Kazakhstan</td><td>0</td><td>0</td><td>8</td><td>8</td><td>29</td></tr><tr><td>84</td><td>Mexico</td><td>0</td><td>0</td><td>4</td><td>4</td><td>47</td></tr><tr><td>85</td><td>Finland</td><td>0</td><td>0</td><td>2</td><td>2</td><td>66</td></tr><tr><td>86</td><td>Botswana</td><td>0</td><td>0</td><td>1</td><td>1</td><td>77</td></tr><tr><td>86</td><td>Burkina Faso</td><td>0</td><td>0</td><td>1</td><td>1</td><td>77</td></tr><tr><td>86</td><td>Côte d'Ivoir</td><td>0</td><td>0</td><td>1</td><td>1</td><td>77</td></tr><tr><td>86</td><td>Ghana</td><td>0</td><td>0</td><td>1</td><td>1</td><td>77</td></tr><tr><td>86</td><td>Grenada</td><td>0</td><td>0</td><td>1</td><td>1</td><td>77</td></tr><tr><td>86</td><td>Kuwait</td><td>0</td><td>0</td><td>1</td><td>1</td><td>77</td></tr><tr><td>86</td><td>Republic of Moldova</td><td>0</td><td>0</td><td>1</td><td>1</td><td>77</td></tr><tr><td>86</td><td>Syrian Arab Republic</td><td>0</td><td>0</td><td>1</td><td>1</td><td>77</td></tr></tbody></table></div>"
      ]
     },
     "metadata": {
      "application/vnd.databricks.v1+output": {
       "addedWidgets": {},
       "aggData": [],
       "aggError": "",
       "aggOverflow": false,
       "aggSchema": [],
       "aggSeriesLimitReached": false,
       "aggType": "",
       "arguments": {},
       "columnCustomDisplayInfos": {},
       "data": [
        [
         1,
         "United States of America",
         39,
         41,
         33,
         113,
         1
        ],
        [
         2,
         "People's Republic of China",
         38,
         32,
         18,
         88,
         2
        ],
        [
         3,
         "Japan",
         27,
         14,
         17,
         58,
         5
        ],
        [
         4,
         "Great Britain",
         22,
         21,
         22,
         65,
         4
        ],
        [
         5,
         "ROC",
         20,
         28,
         23,
         71,
         3
        ],
        [
         6,
         "Australia",
         17,
         7,
         22,
         46,
         6
        ],
        [
         7,
         "Netherlands",
         10,
         12,
         14,
         36,
         9
        ],
        [
         8,
         "France",
         10,
         12,
         11,
         33,
         10
        ],
        [
         9,
         "Germany",
         10,
         11,
         16,
         37,
         8
        ],
        [
         10,
         "Italy",
         10,
         10,
         20,
         40,
         7
        ],
        [
         11,
         "Canada",
         7,
         6,
         11,
         24,
         11
        ],
        [
         12,
         "Brazil",
         7,
         6,
         8,
         21,
         12
        ],
        [
         13,
         "New Zealand",
         7,
         6,
         7,
         20,
         13
        ],
        [
         14,
         "Cuba",
         7,
         3,
         5,
         15,
         18
        ],
        [
         15,
         "Hungary",
         6,
         7,
         7,
         20,
         13
        ],
        [
         16,
         "Republic of Korea",
         6,
         4,
         10,
         20,
         13
        ],
        [
         17,
         "Poland",
         4,
         5,
         5,
         14,
         19
        ],
        [
         18,
         "Czech Republic",
         4,
         4,
         3,
         11,
         23
        ],
        [
         19,
         "Kenya",
         4,
         4,
         2,
         10,
         25
        ],
        [
         20,
         "Norway",
         4,
         2,
         2,
         8,
         29
        ],
        [
         21,
         "Jamaica",
         4,
         1,
         4,
         9,
         26
        ],
        [
         22,
         "Spain",
         3,
         8,
         6,
         17,
         17
        ],
        [
         23,
         "Sweden",
         3,
         6,
         0,
         9,
         26
        ],
        [
         24,
         "Switzerland",
         3,
         4,
         6,
         13,
         20
        ],
        [
         25,
         "Denmark",
         3,
         4,
         4,
         11,
         23
        ],
        [
         26,
         "Croatia",
         3,
         3,
         2,
         8,
         29
        ],
        [
         27,
         "Islamic Republic of Iran",
         3,
         2,
         2,
         7,
         33
        ],
        [
         28,
         "Serbia",
         3,
         1,
         5,
         9,
         26
        ],
        [
         29,
         "Belgium",
         3,
         1,
         3,
         7,
         33
        ],
        [
         30,
         "Bulgaria",
         3,
         1,
         2,
         6,
         39
        ],
        [
         31,
         "Slovenia",
         3,
         1,
         1,
         5,
         42
        ],
        [
         32,
         "Uzbekistan",
         3,
         0,
         2,
         5,
         42
        ],
        [
         33,
         "Georgia",
         2,
         5,
         1,
         8,
         29
        ],
        [
         34,
         "Chinese Taipei",
         2,
         4,
         6,
         12,
         22
        ],
        [
         35,
         "Turkey",
         2,
         2,
         9,
         13,
         20
        ],
        [
         36,
         "Greece",
         2,
         1,
         1,
         4,
         47
        ],
        [
         36,
         "Uganda",
         2,
         1,
         1,
         4,
         47
        ],
        [
         38,
         "Ecuador",
         2,
         1,
         0,
         3,
         60
        ],
        [
         39,
         "Ireland",
         2,
         0,
         2,
         4,
         47
        ],
        [
         39,
         "Israel",
         2,
         0,
         2,
         4,
         47
        ],
        [
         41,
         "Qatar",
         2,
         0,
         1,
         3,
         60
        ],
        [
         42,
         "Bahamas",
         2,
         0,
         0,
         2,
         66
        ],
        [
         42,
         "Kosovo",
         2,
         0,
         0,
         2,
         66
        ],
        [
         44,
         "Ukraine",
         1,
         6,
         12,
         19,
         16
        ],
        [
         45,
         "Belarus",
         1,
         3,
         3,
         7,
         33
        ],
        [
         46,
         "Romania",
         1,
         3,
         0,
         4,
         47
        ],
        [
         46,
         "Venezuela",
         1,
         3,
         0,
         4,
         47
        ],
        [
         48,
         "India",
         1,
         2,
         4,
         7,
         33
        ],
        [
         49,
         "Hong Kong, China",
         1,
         2,
         3,
         6,
         39
        ],
        [
         50,
         "Philippines",
         1,
         2,
         1,
         4,
         47
        ],
        [
         50,
         "Slovakia",
         1,
         2,
         1,
         4,
         47
        ],
        [
         52,
         "South Africa",
         1,
         2,
         0,
         3,
         60
        ],
        [
         53,
         "Austria",
         1,
         1,
         5,
         7,
         33
        ],
        [
         54,
         "Egypt",
         1,
         1,
         4,
         6,
         39
        ],
        [
         55,
         "Indonesia",
         1,
         1,
         3,
         5,
         42
        ],
        [
         56,
         "Ethiopia",
         1,
         1,
         2,
         4,
         47
        ],
        [
         56,
         "Portugal",
         1,
         1,
         2,
         4,
         47
        ],
        [
         58,
         "Tunisia",
         1,
         1,
         0,
         2,
         66
        ],
        [
         59,
         "Estonia",
         1,
         0,
         1,
         2,
         66
        ],
        [
         59,
         "Fiji",
         1,
         0,
         1,
         2,
         66
        ],
        [
         59,
         "Latvia",
         1,
         0,
         1,
         2,
         66
        ],
        [
         59,
         "Thailand",
         1,
         0,
         1,
         2,
         66
        ],
        [
         63,
         "Bermuda",
         1,
         0,
         0,
         1,
         77
        ],
        [
         63,
         "Morocco",
         1,
         0,
         0,
         1,
         77
        ],
        [
         63,
         "Puerto Rico",
         1,
         0,
         0,
         1,
         77
        ],
        [
         66,
         "Colombia",
         0,
         4,
         1,
         5,
         42
        ],
        [
         67,
         "Azerbaijan",
         0,
         3,
         4,
         7,
         33
        ],
        [
         68,
         "Dominican Republic",
         0,
         3,
         2,
         5,
         42
        ],
        [
         69,
         "Armenia",
         0,
         2,
         2,
         4,
         47
        ],
        [
         70,
         "Kyrgyzstan",
         0,
         2,
         1,
         3,
         60
        ],
        [
         71,
         "Mongolia",
         0,
         1,
         3,
         4,
         47
        ],
        [
         72,
         "Argentina",
         0,
         1,
         2,
         3,
         60
        ],
        [
         72,
         "San Marino",
         0,
         1,
         2,
         3,
         60
        ],
        [
         74,
         "Jordan",
         0,
         1,
         1,
         2,
         66
        ],
        [
         74,
         "Malaysia",
         0,
         1,
         1,
         2,
         66
        ],
        [
         74,
         "Nigeria",
         0,
         1,
         1,
         2,
         66
        ],
        [
         77,
         "Bahrain",
         0,
         1,
         0,
         1,
         77
        ],
        [
         77,
         "Saudi Arabia",
         0,
         1,
         0,
         1,
         77
        ],
        [
         77,
         "Lithuania",
         0,
         1,
         0,
         1,
         77
        ],
        [
         77,
         "North Macedonia",
         0,
         1,
         0,
         1,
         77
        ],
        [
         77,
         "Namibia",
         0,
         1,
         0,
         1,
         77
        ],
        [
         77,
         "Turkmenistan",
         0,
         1,
         0,
         1,
         77
        ],
        [
         83,
         "Kazakhstan",
         0,
         0,
         8,
         8,
         29
        ],
        [
         84,
         "Mexico",
         0,
         0,
         4,
         4,
         47
        ],
        [
         85,
         "Finland",
         0,
         0,
         2,
         2,
         66
        ],
        [
         86,
         "Botswana",
         0,
         0,
         1,
         1,
         77
        ],
        [
         86,
         "Burkina Faso",
         0,
         0,
         1,
         1,
         77
        ],
        [
         86,
         "Côte d'Ivoir",
         0,
         0,
         1,
         1,
         77
        ],
        [
         86,
         "Ghana",
         0,
         0,
         1,
         1,
         77
        ],
        [
         86,
         "Grenada",
         0,
         0,
         1,
         1,
         77
        ],
        [
         86,
         "Kuwait",
         0,
         0,
         1,
         1,
         77
        ],
        [
         86,
         "Republic of Moldova",
         0,
         0,
         1,
         1,
         77
        ],
        [
         86,
         "Syrian Arab Republic",
         0,
         0,
         1,
         1,
         77
        ]
       ],
       "datasetInfos": [],
       "dbfsResultPath": null,
       "isJsonSchema": true,
       "metadata": {},
       "overflow": false,
       "plotOptions": {
        "customPlotOptions": {},
        "displayType": "table",
        "pivotAggregation": null,
        "pivotColumns": null,
        "xColumns": null,
        "yColumns": null
       },
       "removedWidgets": [],
       "schema": [
        {
         "metadata": "{}",
         "name": "Rank",
         "type": "\"integer\""
        },
        {
         "metadata": "{}",
         "name": "Team/NOC",
         "type": "\"string\""
        },
        {
         "metadata": "{}",
         "name": "Gold",
         "type": "\"integer\""
        },
        {
         "metadata": "{}",
         "name": "Silver",
         "type": "\"integer\""
        },
        {
         "metadata": "{}",
         "name": "Bronze",
         "type": "\"integer\""
        },
        {
         "metadata": "{}",
         "name": "Total",
         "type": "\"integer\""
        },
        {
         "metadata": "{}",
         "name": "Rank by Total",
         "type": "\"integer\""
        }
       ],
       "type": "table"
      }
     },
     "output_type": "display_data"
    }
   ],
   "source": [
    "Medals.display()"
   ]
  },
  {
   "cell_type": "code",
   "execution_count": 0,
   "metadata": {
    "application/vnd.databricks.v1+cell": {
     "cellMetadata": {
      "byteLimit": 2048000,
      "rowLimit": 10000
     },
     "inputWidgets": {},
     "nuid": "8738a60a-087d-4392-96b4-68d930aa487d",
     "showTitle": false,
     "tableResultSettingsMap": {},
     "title": ""
    }
   },
   "outputs": [
    {
     "output_type": "display_data",
     "data": {
      "text/html": [
       "<style scoped>\n",
       "  .table-result-container {\n",
       "    max-height: 300px;\n",
       "    overflow: auto;\n",
       "  }\n",
       "  table, th, td {\n",
       "    border: 1px solid black;\n",
       "    border-collapse: collapse;\n",
       "  }\n",
       "  th, td {\n",
       "    padding: 5px;\n",
       "  }\n",
       "  th {\n",
       "    text-align: left;\n",
       "  }\n",
       "</style><div class='table-result-container'><table class='table-result'><thead style='background-color: white'><tr><th>Discipline</th><th>Female</th><th>Male</th><th>Total</th></tr></thead><tbody><tr><td>3x3 Basketball</td><td>32</td><td>32</td><td>64</td></tr><tr><td>Archery</td><td>64</td><td>64</td><td>128</td></tr><tr><td>Artistic Gymnastics</td><td>98</td><td>98</td><td>196</td></tr><tr><td>Artistic Swimming</td><td>105</td><td>0</td><td>105</td></tr><tr><td>Athletics</td><td>969</td><td>1072</td><td>2041</td></tr><tr><td>Badminton</td><td>86</td><td>87</td><td>173</td></tr><tr><td>Baseball/Softball</td><td>90</td><td>144</td><td>234</td></tr><tr><td>Basketball</td><td>144</td><td>144</td><td>288</td></tr><tr><td>Beach Volleyball</td><td>48</td><td>48</td><td>96</td></tr><tr><td>Boxing</td><td>102</td><td>187</td><td>289</td></tr><tr><td>Canoe Slalom</td><td>41</td><td>41</td><td>82</td></tr><tr><td>Canoe Sprint</td><td>123</td><td>126</td><td>249</td></tr><tr><td>Cycling BMX Freestyle</td><td>10</td><td>9</td><td>19</td></tr><tr><td>Cycling BMX Racing</td><td>24</td><td>24</td><td>48</td></tr><tr><td>Cycling Mountain Bike</td><td>38</td><td>38</td><td>76</td></tr><tr><td>Cycling Road</td><td>70</td><td>131</td><td>201</td></tr><tr><td>Cycling Track</td><td>90</td><td>99</td><td>189</td></tr><tr><td>Diving</td><td>72</td><td>71</td><td>143</td></tr><tr><td>Equestrian</td><td>73</td><td>125</td><td>198</td></tr><tr><td>Fencing</td><td>107</td><td>108</td><td>215</td></tr><tr><td>Football</td><td>264</td><td>344</td><td>608</td></tr><tr><td>Golf</td><td>60</td><td>60</td><td>120</td></tr><tr><td>Handball</td><td>168</td><td>168</td><td>336</td></tr><tr><td>Hockey</td><td>192</td><td>192</td><td>384</td></tr><tr><td>Judo</td><td>192</td><td>201</td><td>393</td></tr><tr><td>Karate</td><td>40</td><td>42</td><td>82</td></tr><tr><td>Marathon Swimming</td><td>25</td><td>25</td><td>50</td></tr><tr><td>Modern Pentathlon</td><td>36</td><td>36</td><td>72</td></tr><tr><td>Rhythmic Gymnastics</td><td>96</td><td>0</td><td>96</td></tr><tr><td>Rowing</td><td>257</td><td>265</td><td>522</td></tr><tr><td>Rugby Sevens</td><td>146</td><td>151</td><td>297</td></tr><tr><td>Sailing</td><td>175</td><td>175</td><td>350</td></tr><tr><td>Shooting</td><td>178</td><td>178</td><td>356</td></tr><tr><td>Skateboarding</td><td>40</td><td>40</td><td>80</td></tr><tr><td>Sport Climbing</td><td>20</td><td>20</td><td>40</td></tr><tr><td>Surfing</td><td>20</td><td>20</td><td>40</td></tr><tr><td>Swimming</td><td>361</td><td>418</td><td>779</td></tr><tr><td>Table Tennis</td><td>86</td><td>86</td><td>172</td></tr><tr><td>Taekwondo</td><td>65</td><td>65</td><td>130</td></tr><tr><td>Tennis</td><td>94</td><td>97</td><td>191</td></tr><tr><td>Trampoline Gymnastics</td><td>16</td><td>16</td><td>32</td></tr><tr><td>Triathlon</td><td>55</td><td>55</td><td>110</td></tr><tr><td>Volleyball</td><td>144</td><td>144</td><td>288</td></tr><tr><td>Water Polo</td><td>122</td><td>146</td><td>268</td></tr><tr><td>Weightlifting</td><td>98</td><td>99</td><td>197</td></tr><tr><td>Wrestling</td><td>96</td><td>193</td><td>289</td></tr></tbody></table></div>"
      ]
     },
     "metadata": {
      "application/vnd.databricks.v1+output": {
       "addedWidgets": {},
       "aggData": [],
       "aggError": "",
       "aggOverflow": false,
       "aggSchema": [],
       "aggSeriesLimitReached": false,
       "aggType": "",
       "arguments": {},
       "columnCustomDisplayInfos": {},
       "data": [
        [
         "3x3 Basketball",
         32,
         32,
         64
        ],
        [
         "Archery",
         64,
         64,
         128
        ],
        [
         "Artistic Gymnastics",
         98,
         98,
         196
        ],
        [
         "Artistic Swimming",
         105,
         0,
         105
        ],
        [
         "Athletics",
         969,
         1072,
         2041
        ],
        [
         "Badminton",
         86,
         87,
         173
        ],
        [
         "Baseball/Softball",
         90,
         144,
         234
        ],
        [
         "Basketball",
         144,
         144,
         288
        ],
        [
         "Beach Volleyball",
         48,
         48,
         96
        ],
        [
         "Boxing",
         102,
         187,
         289
        ],
        [
         "Canoe Slalom",
         41,
         41,
         82
        ],
        [
         "Canoe Sprint",
         123,
         126,
         249
        ],
        [
         "Cycling BMX Freestyle",
         10,
         9,
         19
        ],
        [
         "Cycling BMX Racing",
         24,
         24,
         48
        ],
        [
         "Cycling Mountain Bike",
         38,
         38,
         76
        ],
        [
         "Cycling Road",
         70,
         131,
         201
        ],
        [
         "Cycling Track",
         90,
         99,
         189
        ],
        [
         "Diving",
         72,
         71,
         143
        ],
        [
         "Equestrian",
         73,
         125,
         198
        ],
        [
         "Fencing",
         107,
         108,
         215
        ],
        [
         "Football",
         264,
         344,
         608
        ],
        [
         "Golf",
         60,
         60,
         120
        ],
        [
         "Handball",
         168,
         168,
         336
        ],
        [
         "Hockey",
         192,
         192,
         384
        ],
        [
         "Judo",
         192,
         201,
         393
        ],
        [
         "Karate",
         40,
         42,
         82
        ],
        [
         "Marathon Swimming",
         25,
         25,
         50
        ],
        [
         "Modern Pentathlon",
         36,
         36,
         72
        ],
        [
         "Rhythmic Gymnastics",
         96,
         0,
         96
        ],
        [
         "Rowing",
         257,
         265,
         522
        ],
        [
         "Rugby Sevens",
         146,
         151,
         297
        ],
        [
         "Sailing",
         175,
         175,
         350
        ],
        [
         "Shooting",
         178,
         178,
         356
        ],
        [
         "Skateboarding",
         40,
         40,
         80
        ],
        [
         "Sport Climbing",
         20,
         20,
         40
        ],
        [
         "Surfing",
         20,
         20,
         40
        ],
        [
         "Swimming",
         361,
         418,
         779
        ],
        [
         "Table Tennis",
         86,
         86,
         172
        ],
        [
         "Taekwondo",
         65,
         65,
         130
        ],
        [
         "Tennis",
         94,
         97,
         191
        ],
        [
         "Trampoline Gymnastics",
         16,
         16,
         32
        ],
        [
         "Triathlon",
         55,
         55,
         110
        ],
        [
         "Volleyball",
         144,
         144,
         288
        ],
        [
         "Water Polo",
         122,
         146,
         268
        ],
        [
         "Weightlifting",
         98,
         99,
         197
        ],
        [
         "Wrestling",
         96,
         193,
         289
        ]
       ],
       "datasetInfos": [],
       "dbfsResultPath": null,
       "isJsonSchema": true,
       "metadata": {},
       "overflow": false,
       "plotOptions": {
        "customPlotOptions": {},
        "displayType": "table",
        "pivotAggregation": null,
        "pivotColumns": null,
        "xColumns": null,
        "yColumns": null
       },
       "removedWidgets": [],
       "schema": [
        {
         "metadata": "{}",
         "name": "Discipline",
         "type": "\"string\""
        },
        {
         "metadata": "{}",
         "name": "Female",
         "type": "\"integer\""
        },
        {
         "metadata": "{}",
         "name": "Male",
         "type": "\"integer\""
        },
        {
         "metadata": "{}",
         "name": "Total",
         "type": "\"integer\""
        }
       ],
       "type": "table"
      }
     },
     "output_type": "display_data"
    },
    {
     "output_type": "display_data",
     "data": {
      "text/html": [
       "<style scoped>\n",
       "  .table-result-container {\n",
       "    max-height: 300px;\n",
       "    overflow: auto;\n",
       "  }\n",
       "  table, th, td {\n",
       "    border: 1px solid black;\n",
       "    border-collapse: collapse;\n",
       "  }\n",
       "  th, td {\n",
       "    padding: 5px;\n",
       "  }\n",
       "  th {\n",
       "    text-align: left;\n",
       "  }\n",
       "</style><div class='table-result-container'><table class='table-result'><thead style='background-color: white'><tr><th>Discipline</th><th>Female</th><th>Male</th><th>Total</th><th>avg_male</th></tr></thead><tbody><tr><td>3x3 Basketball</td><td>32</td><td>32</td><td>64</td><td>0.5</td></tr><tr><td>Archery</td><td>64</td><td>64</td><td>128</td><td>0.5</td></tr><tr><td>Artistic Gymnastics</td><td>98</td><td>98</td><td>196</td><td>0.5</td></tr><tr><td>Artistic Swimming</td><td>105</td><td>0</td><td>105</td><td>0.0</td></tr><tr><td>Athletics</td><td>969</td><td>1072</td><td>2041</td><td>0.5252327290543851</td></tr><tr><td>Badminton</td><td>86</td><td>87</td><td>173</td><td>0.5028901734104047</td></tr><tr><td>Baseball/Softball</td><td>90</td><td>144</td><td>234</td><td>0.6153846153846154</td></tr><tr><td>Basketball</td><td>144</td><td>144</td><td>288</td><td>0.5</td></tr><tr><td>Beach Volleyball</td><td>48</td><td>48</td><td>96</td><td>0.5</td></tr><tr><td>Boxing</td><td>102</td><td>187</td><td>289</td><td>0.6470588235294118</td></tr><tr><td>Canoe Slalom</td><td>41</td><td>41</td><td>82</td><td>0.5</td></tr><tr><td>Canoe Sprint</td><td>123</td><td>126</td><td>249</td><td>0.5060240963855421</td></tr><tr><td>Cycling BMX Freestyle</td><td>10</td><td>9</td><td>19</td><td>0.47368421052631576</td></tr><tr><td>Cycling BMX Racing</td><td>24</td><td>24</td><td>48</td><td>0.5</td></tr><tr><td>Cycling Mountain Bike</td><td>38</td><td>38</td><td>76</td><td>0.5</td></tr><tr><td>Cycling Road</td><td>70</td><td>131</td><td>201</td><td>0.6517412935323383</td></tr><tr><td>Cycling Track</td><td>90</td><td>99</td><td>189</td><td>0.5238095238095238</td></tr><tr><td>Diving</td><td>72</td><td>71</td><td>143</td><td>0.4965034965034965</td></tr><tr><td>Equestrian</td><td>73</td><td>125</td><td>198</td><td>0.6313131313131313</td></tr><tr><td>Fencing</td><td>107</td><td>108</td><td>215</td><td>0.5023255813953489</td></tr><tr><td>Football</td><td>264</td><td>344</td><td>608</td><td>0.5657894736842105</td></tr><tr><td>Golf</td><td>60</td><td>60</td><td>120</td><td>0.5</td></tr><tr><td>Handball</td><td>168</td><td>168</td><td>336</td><td>0.5</td></tr><tr><td>Hockey</td><td>192</td><td>192</td><td>384</td><td>0.5</td></tr><tr><td>Judo</td><td>192</td><td>201</td><td>393</td><td>0.5114503816793893</td></tr><tr><td>Karate</td><td>40</td><td>42</td><td>82</td><td>0.5121951219512195</td></tr><tr><td>Marathon Swimming</td><td>25</td><td>25</td><td>50</td><td>0.5</td></tr><tr><td>Modern Pentathlon</td><td>36</td><td>36</td><td>72</td><td>0.5</td></tr><tr><td>Rhythmic Gymnastics</td><td>96</td><td>0</td><td>96</td><td>0.0</td></tr><tr><td>Rowing</td><td>257</td><td>265</td><td>522</td><td>0.5076628352490421</td></tr><tr><td>Rugby Sevens</td><td>146</td><td>151</td><td>297</td><td>0.5084175084175084</td></tr><tr><td>Sailing</td><td>175</td><td>175</td><td>350</td><td>0.5</td></tr><tr><td>Shooting</td><td>178</td><td>178</td><td>356</td><td>0.5</td></tr><tr><td>Skateboarding</td><td>40</td><td>40</td><td>80</td><td>0.5</td></tr><tr><td>Sport Climbing</td><td>20</td><td>20</td><td>40</td><td>0.5</td></tr><tr><td>Surfing</td><td>20</td><td>20</td><td>40</td><td>0.5</td></tr><tr><td>Swimming</td><td>361</td><td>418</td><td>779</td><td>0.5365853658536586</td></tr><tr><td>Table Tennis</td><td>86</td><td>86</td><td>172</td><td>0.5</td></tr><tr><td>Taekwondo</td><td>65</td><td>65</td><td>130</td><td>0.5</td></tr><tr><td>Tennis</td><td>94</td><td>97</td><td>191</td><td>0.5078534031413613</td></tr><tr><td>Trampoline Gymnastics</td><td>16</td><td>16</td><td>32</td><td>0.5</td></tr><tr><td>Triathlon</td><td>55</td><td>55</td><td>110</td><td>0.5</td></tr><tr><td>Volleyball</td><td>144</td><td>144</td><td>288</td><td>0.5</td></tr><tr><td>Water Polo</td><td>122</td><td>146</td><td>268</td><td>0.5447761194029851</td></tr><tr><td>Weightlifting</td><td>98</td><td>99</td><td>197</td><td>0.5025380710659898</td></tr><tr><td>Wrestling</td><td>96</td><td>193</td><td>289</td><td>0.6678200692041523</td></tr></tbody></table></div>"
      ]
     },
     "metadata": {
      "application/vnd.databricks.v1+output": {
       "addedWidgets": {},
       "aggData": [],
       "aggError": "",
       "aggOverflow": false,
       "aggSchema": [],
       "aggSeriesLimitReached": false,
       "aggType": "",
       "arguments": {},
       "columnCustomDisplayInfos": {},
       "data": [
        [
         "3x3 Basketball",
         32,
         32,
         64,
         0.5
        ],
        [
         "Archery",
         64,
         64,
         128,
         0.5
        ],
        [
         "Artistic Gymnastics",
         98,
         98,
         196,
         0.5
        ],
        [
         "Artistic Swimming",
         105,
         0,
         105,
         0.0
        ],
        [
         "Athletics",
         969,
         1072,
         2041,
         0.5252327290543851
        ],
        [
         "Badminton",
         86,
         87,
         173,
         0.5028901734104047
        ],
        [
         "Baseball/Softball",
         90,
         144,
         234,
         0.6153846153846154
        ],
        [
         "Basketball",
         144,
         144,
         288,
         0.5
        ],
        [
         "Beach Volleyball",
         48,
         48,
         96,
         0.5
        ],
        [
         "Boxing",
         102,
         187,
         289,
         0.6470588235294118
        ],
        [
         "Canoe Slalom",
         41,
         41,
         82,
         0.5
        ],
        [
         "Canoe Sprint",
         123,
         126,
         249,
         0.5060240963855421
        ],
        [
         "Cycling BMX Freestyle",
         10,
         9,
         19,
         0.47368421052631576
        ],
        [
         "Cycling BMX Racing",
         24,
         24,
         48,
         0.5
        ],
        [
         "Cycling Mountain Bike",
         38,
         38,
         76,
         0.5
        ],
        [
         "Cycling Road",
         70,
         131,
         201,
         0.6517412935323383
        ],
        [
         "Cycling Track",
         90,
         99,
         189,
         0.5238095238095238
        ],
        [
         "Diving",
         72,
         71,
         143,
         0.4965034965034965
        ],
        [
         "Equestrian",
         73,
         125,
         198,
         0.6313131313131313
        ],
        [
         "Fencing",
         107,
         108,
         215,
         0.5023255813953489
        ],
        [
         "Football",
         264,
         344,
         608,
         0.5657894736842105
        ],
        [
         "Golf",
         60,
         60,
         120,
         0.5
        ],
        [
         "Handball",
         168,
         168,
         336,
         0.5
        ],
        [
         "Hockey",
         192,
         192,
         384,
         0.5
        ],
        [
         "Judo",
         192,
         201,
         393,
         0.5114503816793893
        ],
        [
         "Karate",
         40,
         42,
         82,
         0.5121951219512195
        ],
        [
         "Marathon Swimming",
         25,
         25,
         50,
         0.5
        ],
        [
         "Modern Pentathlon",
         36,
         36,
         72,
         0.5
        ],
        [
         "Rhythmic Gymnastics",
         96,
         0,
         96,
         0.0
        ],
        [
         "Rowing",
         257,
         265,
         522,
         0.5076628352490421
        ],
        [
         "Rugby Sevens",
         146,
         151,
         297,
         0.5084175084175084
        ],
        [
         "Sailing",
         175,
         175,
         350,
         0.5
        ],
        [
         "Shooting",
         178,
         178,
         356,
         0.5
        ],
        [
         "Skateboarding",
         40,
         40,
         80,
         0.5
        ],
        [
         "Sport Climbing",
         20,
         20,
         40,
         0.5
        ],
        [
         "Surfing",
         20,
         20,
         40,
         0.5
        ],
        [
         "Swimming",
         361,
         418,
         779,
         0.5365853658536586
        ],
        [
         "Table Tennis",
         86,
         86,
         172,
         0.5
        ],
        [
         "Taekwondo",
         65,
         65,
         130,
         0.5
        ],
        [
         "Tennis",
         94,
         97,
         191,
         0.5078534031413613
        ],
        [
         "Trampoline Gymnastics",
         16,
         16,
         32,
         0.5
        ],
        [
         "Triathlon",
         55,
         55,
         110,
         0.5
        ],
        [
         "Volleyball",
         144,
         144,
         288,
         0.5
        ],
        [
         "Water Polo",
         122,
         146,
         268,
         0.5447761194029851
        ],
        [
         "Weightlifting",
         98,
         99,
         197,
         0.5025380710659898
        ],
        [
         "Wrestling",
         96,
         193,
         289,
         0.6678200692041523
        ]
       ],
       "datasetInfos": [],
       "dbfsResultPath": null,
       "isJsonSchema": true,
       "metadata": {},
       "overflow": false,
       "plotOptions": {
        "customPlotOptions": {},
        "displayType": "table",
        "pivotAggregation": null,
        "pivotColumns": null,
        "xColumns": null,
        "yColumns": null
       },
       "removedWidgets": [],
       "schema": [
        {
         "metadata": "{}",
         "name": "Discipline",
         "type": "\"string\""
        },
        {
         "metadata": "{}",
         "name": "Female",
         "type": "\"integer\""
        },
        {
         "metadata": "{}",
         "name": "Male",
         "type": "\"integer\""
        },
        {
         "metadata": "{}",
         "name": "Total",
         "type": "\"integer\""
        },
        {
         "metadata": "{}",
         "name": "avg_male",
         "type": "\"double\""
        }
       ],
       "type": "table"
      }
     },
     "output_type": "display_data"
    }
   ],
   "source": [
    "EntriesGender.display()\n",
    "\n",
    "EntriesGender=EntriesGender.withColumn(\"avg_male\",col('Male')/col('Total'))\n",
    "EntriesGender.display()"
   ]
  },
  {
   "cell_type": "code",
   "execution_count": 0,
   "metadata": {
    "application/vnd.databricks.v1+cell": {
     "cellMetadata": {
      "byteLimit": 2048000,
      "rowLimit": 10000
     },
     "inputWidgets": {},
     "nuid": "3719fd5b-058a-448a-a760-dc306f5033a0",
     "showTitle": false,
     "tableResultSettingsMap": {},
     "title": ""
    }
   },
   "outputs": [
    {
     "output_type": "display_data",
     "data": {
      "text/html": [
       "<style scoped>\n",
       "  .table-result-container {\n",
       "    max-height: 300px;\n",
       "    overflow: auto;\n",
       "  }\n",
       "  table, th, td {\n",
       "    border: 1px solid black;\n",
       "    border-collapse: collapse;\n",
       "  }\n",
       "  th, td {\n",
       "    padding: 5px;\n",
       "  }\n",
       "  th {\n",
       "    text-align: left;\n",
       "  }\n",
       "</style><div class='table-result-container'><table class='table-result'><thead style='background-color: white'><tr><th>path</th><th>name</th><th>size</th><th>modificationTime</th></tr></thead><tbody><tr><td>dbfs:/mnt/new_olympic_project/raw-data/Athletes.csv</td><td>Athletes.csv</td><td>418482</td><td>1732823197000</td></tr><tr><td>dbfs:/mnt/new_olympic_project/raw-data/Coaches.csv</td><td>Coaches.csv</td><td>16885</td><td>1732823196000</td></tr><tr><td>dbfs:/mnt/new_olympic_project/raw-data/EntriesGender.csv</td><td>EntriesGender.csv</td><td>1123</td><td>1732823196000</td></tr><tr><td>dbfs:/mnt/new_olympic_project/raw-data/Medals.csv</td><td>Medals.csv</td><td>2410</td><td>1732823196000</td></tr><tr><td>dbfs:/mnt/new_olympic_project/raw-data/Teams.csv</td><td>Teams.csv</td><td>35262</td><td>1732823197000</td></tr></tbody></table></div>"
      ]
     },
     "metadata": {
      "application/vnd.databricks.v1+output": {
       "addedWidgets": {},
       "aggData": [],
       "aggError": "",
       "aggOverflow": false,
       "aggSchema": [],
       "aggSeriesLimitReached": false,
       "aggType": "",
       "arguments": {},
       "columnCustomDisplayInfos": {},
       "data": [
        [
         "dbfs:/mnt/new_olympic_project/raw-data/Athletes.csv",
         "Athletes.csv",
         418482,
         1732823197000
        ],
        [
         "dbfs:/mnt/new_olympic_project/raw-data/Coaches.csv",
         "Coaches.csv",
         16885,
         1732823196000
        ],
        [
         "dbfs:/mnt/new_olympic_project/raw-data/EntriesGender.csv",
         "EntriesGender.csv",
         1123,
         1732823196000
        ],
        [
         "dbfs:/mnt/new_olympic_project/raw-data/Medals.csv",
         "Medals.csv",
         2410,
         1732823196000
        ],
        [
         "dbfs:/mnt/new_olympic_project/raw-data/Teams.csv",
         "Teams.csv",
         35262,
         1732823197000
        ]
       ],
       "datasetInfos": [],
       "dbfsResultPath": null,
       "isJsonSchema": true,
       "metadata": {
        "isDbfsCommandResult": false
       },
       "overflow": false,
       "plotOptions": {
        "customPlotOptions": {},
        "displayType": "table",
        "pivotAggregation": null,
        "pivotColumns": null,
        "xColumns": null,
        "yColumns": null
       },
       "removedWidgets": [],
       "schema": [
        {
         "metadata": "{}",
         "name": "path",
         "type": "\"string\""
        },
        {
         "metadata": "{}",
         "name": "name",
         "type": "\"string\""
        },
        {
         "metadata": "{}",
         "name": "size",
         "type": "\"long\""
        },
        {
         "metadata": "{}",
         "name": "modificationTime",
         "type": "\"long\""
        }
       ],
       "type": "table"
      }
     },
     "output_type": "display_data"
    }
   ],
   "source": [
    "%fs\n",
    "ls dbfs:/mnt/new_olympic_project/raw-data/"
   ]
  },
  {
   "cell_type": "code",
   "execution_count": 0,
   "metadata": {
    "application/vnd.databricks.v1+cell": {
     "cellMetadata": {
      "byteLimit": 2048000,
      "rowLimit": 10000
     },
     "inputWidgets": {},
     "nuid": "ad05bc53-0cbb-4d63-a011-c25c5bc5ec6d",
     "showTitle": false,
     "tableResultSettingsMap": {},
     "title": ""
    }
   },
   "outputs": [],
   "source": [
    "#after making transfromation (adding columns, delting columns, renaming columns etc).lets write it to another folder in adls \"transformaed data\"\n",
    "\n",
    "# this is dtaabricks ke jis folder me mount hua hai uska location \"\"\"/mnt/new_olympic_project/\"\"\", it is not location of adls container\n",
    "Athletes=Athletes.repartition(1)\n",
    "Athletes.write.option('header',True).mode('overwrite').csv('/mnt/new_olympic_project/transformed-data/Athletes')\n",
    "Coaches.write.option('header',True).csv(\"/mnt/new_olympic_project/transformed-data/Coaches\")\n",
    "EntriesGender.write.option('header',True).csv(\"/mnt/new_olympic_project/transformed-data/EntriesGender\")\n",
    "Medals.write.option('header',True).csv(\"/mnt/new_olympic_project/transformed-data/Medals\")\n",
    "Teams.write.option('header',True).csv(\"/mnt/new_olympic_project/transformed-data/Teams\")"
   ]
  },
  {
   "cell_type": "code",
   "execution_count": 0,
   "metadata": {
    "application/vnd.databricks.v1+cell": {
     "cellMetadata": {
      "byteLimit": 2048000,
      "rowLimit": 10000
     },
     "inputWidgets": {},
     "nuid": "6557cbe7-5e2c-42a0-b275-5883be595af7",
     "showTitle": false,
     "tableResultSettingsMap": {},
     "title": ""
    }
   },
   "outputs": [
    {
     "output_type": "display_data",
     "data": {
      "text/html": [
       "<style scoped>\n",
       "  .table-result-container {\n",
       "    max-height: 300px;\n",
       "    overflow: auto;\n",
       "  }\n",
       "  table, th, td {\n",
       "    border: 1px solid black;\n",
       "    border-collapse: collapse;\n",
       "  }\n",
       "  th, td {\n",
       "    padding: 5px;\n",
       "  }\n",
       "  th {\n",
       "    text-align: left;\n",
       "  }\n",
       "</style><div class='table-result-container'><table class='table-result'><thead style='background-color: white'><tr><th>path</th><th>name</th><th>size</th><th>modificationTime</th></tr></thead><tbody><tr><td>dbfs:/mnt/tokyo-olympic-data/transformed-data/Athletes/</td><td>Athletes/</td><td>0</td><td>1732859120000</td></tr><tr><td>dbfs:/mnt/tokyo-olympic-data/transformed-data/Athletes.csv/</td><td>Athletes.csv/</td><td>0</td><td>1732859033000</td></tr><tr><td>dbfs:/mnt/tokyo-olympic-data/transformed-data/Coaches/</td><td>Coaches/</td><td>0</td><td>1732859121000</td></tr><tr><td>dbfs:/mnt/tokyo-olympic-data/transformed-data/Coaches.csv/</td><td>Coaches.csv/</td><td>0</td><td>1732859034000</td></tr><tr><td>dbfs:/mnt/tokyo-olympic-data/transformed-data/EntriesGender/</td><td>EntriesGender/</td><td>0</td><td>1732859122000</td></tr><tr><td>dbfs:/mnt/tokyo-olympic-data/transformed-data/EntriesGender.csv/</td><td>EntriesGender.csv/</td><td>0</td><td>1732859035000</td></tr><tr><td>dbfs:/mnt/tokyo-olympic-data/transformed-data/Medals/</td><td>Medals/</td><td>0</td><td>1732859122000</td></tr><tr><td>dbfs:/mnt/tokyo-olympic-data/transformed-data/Medals.csv/</td><td>Medals.csv/</td><td>0</td><td>1732859035000</td></tr><tr><td>dbfs:/mnt/tokyo-olympic-data/transformed-data/Teams/</td><td>Teams/</td><td>0</td><td>1732859123000</td></tr><tr><td>dbfs:/mnt/tokyo-olympic-data/transformed-data/Teams.csv/</td><td>Teams.csv/</td><td>0</td><td>1732859036000</td></tr></tbody></table></div>"
      ]
     },
     "metadata": {
      "application/vnd.databricks.v1+output": {
       "addedWidgets": {},
       "aggData": [],
       "aggError": "",
       "aggOverflow": false,
       "aggSchema": [],
       "aggSeriesLimitReached": false,
       "aggType": "",
       "arguments": {},
       "columnCustomDisplayInfos": {},
       "data": [
        [
         "dbfs:/mnt/tokyo-olympic-data/transformed-data/Athletes/",
         "Athletes/",
         0,
         1732859120000
        ],
        [
         "dbfs:/mnt/tokyo-olympic-data/transformed-data/Athletes.csv/",
         "Athletes.csv/",
         0,
         1732859033000
        ],
        [
         "dbfs:/mnt/tokyo-olympic-data/transformed-data/Coaches/",
         "Coaches/",
         0,
         1732859121000
        ],
        [
         "dbfs:/mnt/tokyo-olympic-data/transformed-data/Coaches.csv/",
         "Coaches.csv/",
         0,
         1732859034000
        ],
        [
         "dbfs:/mnt/tokyo-olympic-data/transformed-data/EntriesGender/",
         "EntriesGender/",
         0,
         1732859122000
        ],
        [
         "dbfs:/mnt/tokyo-olympic-data/transformed-data/EntriesGender.csv/",
         "EntriesGender.csv/",
         0,
         1732859035000
        ],
        [
         "dbfs:/mnt/tokyo-olympic-data/transformed-data/Medals/",
         "Medals/",
         0,
         1732859122000
        ],
        [
         "dbfs:/mnt/tokyo-olympic-data/transformed-data/Medals.csv/",
         "Medals.csv/",
         0,
         1732859035000
        ],
        [
         "dbfs:/mnt/tokyo-olympic-data/transformed-data/Teams/",
         "Teams/",
         0,
         1732859123000
        ],
        [
         "dbfs:/mnt/tokyo-olympic-data/transformed-data/Teams.csv/",
         "Teams.csv/",
         0,
         1732859036000
        ]
       ],
       "datasetInfos": [],
       "dbfsResultPath": null,
       "isJsonSchema": true,
       "metadata": {
        "isDbfsCommandResult": false
       },
       "overflow": false,
       "plotOptions": {
        "customPlotOptions": {},
        "displayType": "table",
        "pivotAggregation": null,
        "pivotColumns": null,
        "xColumns": null,
        "yColumns": null
       },
       "removedWidgets": [],
       "schema": [
        {
         "metadata": "{}",
         "name": "path",
         "type": "\"string\""
        },
        {
         "metadata": "{}",
         "name": "name",
         "type": "\"string\""
        },
        {
         "metadata": "{}",
         "name": "size",
         "type": "\"long\""
        },
        {
         "metadata": "{}",
         "name": "modificationTime",
         "type": "\"long\""
        }
       ],
       "type": "table"
      }
     },
     "output_type": "display_data"
    }
   ],
   "source": [
    "%fs\n",
    "ls /mnt/tokyo-olympic-data/transformed-data"
   ]
  },
  {
   "cell_type": "code",
   "execution_count": 0,
   "metadata": {
    "application/vnd.databricks.v1+cell": {
     "cellMetadata": {},
     "inputWidgets": {},
     "nuid": "21c77199-f3e1-4e59-bf24-17ad84a5a37e",
     "showTitle": false,
     "tableResultSettingsMap": {},
     "title": ""
    }
   },
   "outputs": [],
   "source": []
  }
 ],
 "metadata": {
  "application/vnd.databricks.v1+notebook": {
   "computePreferences": null,
   "dashboards": [],
   "environmentMetadata": {
    "base_environment": "",
    "client": "1"
   },
   "language": "python",
   "notebookMetadata": {
    "mostRecentlyExecutedCommandWithImplicitDF": {
     "commandId": 2206391917820704,
     "dataframes": [
      "_sqldf"
     ]
    },
    "pythonIndentUnit": 4
   },
   "notebookName": "(Clone) Arunesh_mount_with_ADLS(sas_token)_for_posting_in_linkedin",
   "widgets": {}
  },
  "language_info": {
   "name": "python"
  }
 },
 "nbformat": 4,
 "nbformat_minor": 0
}